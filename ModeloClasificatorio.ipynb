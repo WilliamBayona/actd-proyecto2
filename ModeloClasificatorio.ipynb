{
 "cells": [
  {
   "cell_type": "markdown",
   "id": "335b375f",
   "metadata": {},
   "source": [
    "## Modelo (Optimizando Accuracy)"
   ]
  },
  {
   "cell_type": "markdown",
   "id": "0be87aef",
   "metadata": {},
   "source": [
    "Importar Librerias"
   ]
  },
  {
   "cell_type": "code",
   "execution_count": 1,
   "id": "5074a198",
   "metadata": {},
   "outputs": [
    {
     "name": "stderr",
     "output_type": "stream",
     "text": [
      "c:\\Users\\ASUS\\AppData\\Local\\Programs\\Python\\Python311\\Lib\\site-packages\\tqdm\\auto.py:21: TqdmWarning: IProgress not found. Please update jupyter and ipywidgets. See https://ipywidgets.readthedocs.io/en/stable/user_install.html\n",
      "  from .autonotebook import tqdm as notebook_tqdm\n"
     ]
    }
   ],
   "source": [
    "import pandas as pd\n",
    "import numpy as np\n",
    "import optuna\n",
    "import mlflow\n",
    "import mlflow.keras\n",
    "from sklearn.model_selection import train_test_split\n",
    "from sklearn.preprocessing import LabelEncoder, StandardScaler\n",
    "from tensorflow.keras.models import Sequential\n",
    "from tensorflow.keras.layers import Dense, Dropout\n",
    "from tensorflow.keras.optimizers import Adam\n",
    "\n"
   ]
  },
  {
   "cell_type": "markdown",
   "id": "8b2efe71",
   "metadata": {},
   "source": [
    "Generar Variable Objetivo"
   ]
  },
  {
   "cell_type": "code",
   "execution_count": 2,
   "id": "28ff572f",
   "metadata": {},
   "outputs": [],
   "source": [
    "# Carga del CSV\n",
    "df = pd.read_csv(\"data2016modelo.csv\")\n",
    "df.columns = df.columns.str.strip().str.lower().str.replace(\" \", \"_\")\n",
    "\n",
    "# Variable objetivo\n",
    "materias = [\n",
    "    'punt_matematicas', 'punt_lectura_critica',\n",
    "    'punt_ingles', 'punt_c_naturales', 'punt_sociales_ciudadanas'\n",
    "]\n",
    "\n",
    "# Features posibles\n",
    "features_all = [\n",
    "    'estu_genero', 'fami_educacionmadre', 'fami_educacionpadre',\n",
    "    'fami_estratovivienda', 'fami_personashogar', 'fami_cuartoshogar',\n",
    "    'fami_tieneautomovil', 'fami_tienecomputador',\n",
    "    'fami_tieneinternet', 'fami_tienelavadora'\n",
    "]"
   ]
  },
  {
   "cell_type": "code",
   "execution_count": 3,
   "id": "0fa5f7c3",
   "metadata": {},
   "outputs": [],
   "source": [
    "def objectiveAcc(trial):\n",
    "    # ----------------------------------\n",
    "    # 🔹 Selección de features (como antes)\n",
    "    selected_features = [f for f in features_all if trial.suggest_categorical(f\"usar_\" + f, [True, False])]\n",
    "    if not selected_features:\n",
    "        return 0\n",
    "\n",
    "    X = df[selected_features].copy()\n",
    "    y = df['materia_menor_puntaje']\n",
    "\n",
    "    for col in X.select_dtypes(include='object').columns:\n",
    "        X[col] = LabelEncoder().fit_transform(X[col].astype(str))\n",
    "\n",
    "    scaler = StandardScaler()\n",
    "    X_scaled = scaler.fit_transform(X)\n",
    "    y_encoded = LabelEncoder().fit_transform(y)\n",
    "\n",
    "    X_train, X_test, y_train, y_test = train_test_split(X_scaled, y_encoded, test_size=0.2, random_state=42, stratify=y_encoded)\n",
    "\n",
    "    # ----------------------------------\n",
    "    # 🔹 Hiperparámetros de red neuronal\n",
    "    n_layers = trial.suggest_int(\"n_layers\", 1, 4)\n",
    "    activation = trial.suggest_categorical(\"activation\", [\"relu\", \"tanh\", \"elu\"])\n",
    "    dropout_rate = trial.suggest_float(\"dropout\", 0.2, 0.5)\n",
    "    learning_rate = trial.suggest_float(\"lr\", 1e-4, 1e-2, log=True)\n",
    "    batch_size = trial.suggest_categorical(\"batch_size\", [16, 32, 64])\n",
    "\n",
    "    # Cantidad de neuronas por capa\n",
    "    hidden_units = [trial.suggest_int(f\"n_units_{i}\", 32, 128) for i in range(n_layers)]\n",
    "\n",
    "    # ----------------------------------\n",
    "    # 🔹 Modelo dinámico\n",
    "    model = Sequential()\n",
    "    model.add(Dense(hidden_units[0], activation=activation, input_shape=(X_train.shape[1],)))\n",
    "    model.add(Dropout(dropout_rate))\n",
    "\n",
    "    for i in range(1, n_layers):\n",
    "        model.add(Dense(hidden_units[i], activation=activation))\n",
    "        model.add(Dropout(dropout_rate))\n",
    "\n",
    "    model.add(Dense(5, activation='softmax'))\n",
    "\n",
    "    # ----------------------------------\n",
    "    # 🔹 Compilación y entrenamiento\n",
    "    model.compile(optimizer=Adam(learning_rate=learning_rate),\n",
    "                  loss='sparse_categorical_crossentropy',\n",
    "                  metrics=['accuracy'])\n",
    "\n",
    "    with mlflow.start_run(nested=True):\n",
    "        mlflow.log_params({\n",
    "            \"n_layers\": n_layers,\n",
    "            \"activation\": activation,\n",
    "            \"dropout\": dropout_rate,\n",
    "            \"learning_rate\": learning_rate,\n",
    "            \"batch_size\": batch_size,\n",
    "            \"features\": selected_features,\n",
    "            **{f\"n_units_{i}\": hidden_units[i] for i in range(n_layers)}\n",
    "        })\n",
    "\n",
    "        model.fit(X_train, y_train, validation_split=0.2, epochs=20, batch_size=batch_size, verbose=0)\n",
    "        loss, acc = model.evaluate(X_test, y_test, verbose=0)\n",
    "\n",
    "        mlflow.log_metric(\"accuracy\", acc)\n",
    "        mlflow.keras.log_model(model, \"modelo_keras\")\n",
    "\n",
    "    return acc\n",
    "# ----------------------------------"
   ]
  },
  {
   "cell_type": "code",
   "execution_count": 4,
   "id": "b1b50920",
   "metadata": {},
   "outputs": [
    {
     "name": "stderr",
     "output_type": "stream",
     "text": [
      "[I 2025-05-25 12:33:06,089] A new study created in memory with name: no-name-de1bd4a7-1979-407b-a046-d82961155489\n",
      "c:\\Users\\ASUS\\AppData\\Local\\Programs\\Python\\Python311\\Lib\\site-packages\\keras\\src\\layers\\core\\dense.py:87: UserWarning: Do not pass an `input_shape`/`input_dim` argument to a layer. When using Sequential models, prefer using an `Input(shape)` object as the first layer in the model instead.\n",
      "  super().__init__(activity_regularizer=activity_regularizer, **kwargs)\n",
      "2025/05/25 12:37:31 WARNING mlflow.keras.save: You are saving a Keras model without specifying model signature.\n",
      "2025/05/25 12:37:46 WARNING mlflow.models.model: Model logged without a signature and input example. Please set `input_example` parameter when logging the model to auto infer the model signature.\n",
      "[I 2025-05-25 12:37:46,212] Trial 0 finished with value: 0.2840137481689453 and parameters: {'usar_estu_genero': False, 'usar_fami_educacionmadre': True, 'usar_fami_educacionpadre': True, 'usar_fami_estratovivienda': True, 'usar_fami_personashogar': True, 'usar_fami_cuartoshogar': False, 'usar_fami_tieneautomovil': False, 'usar_fami_tienecomputador': True, 'usar_fami_tieneinternet': False, 'usar_fami_tienelavadora': True, 'n_layers': 4, 'activation': 'elu', 'dropout': 0.21214121525951873, 'lr': 0.009391241955984534, 'batch_size': 64, 'n_units_0': 38, 'n_units_1': 54, 'n_units_2': 51, 'n_units_3': 127}. Best is trial 0 with value: 0.2840137481689453.\n",
      "c:\\Users\\ASUS\\AppData\\Local\\Programs\\Python\\Python311\\Lib\\site-packages\\keras\\src\\layers\\core\\dense.py:87: UserWarning: Do not pass an `input_shape`/`input_dim` argument to a layer. When using Sequential models, prefer using an `Input(shape)` object as the first layer in the model instead.\n",
      "  super().__init__(activity_regularizer=activity_regularizer, **kwargs)\n",
      "2025/05/25 12:41:04 WARNING mlflow.keras.save: You are saving a Keras model without specifying model signature.\n",
      "2025/05/25 12:41:15 WARNING mlflow.models.model: Model logged without a signature and input example. Please set `input_example` parameter when logging the model to auto infer the model signature.\n",
      "[I 2025-05-25 12:41:15,478] Trial 1 finished with value: 0.29271405935287476 and parameters: {'usar_estu_genero': False, 'usar_fami_educacionmadre': False, 'usar_fami_educacionpadre': True, 'usar_fami_estratovivienda': True, 'usar_fami_personashogar': True, 'usar_fami_cuartoshogar': False, 'usar_fami_tieneautomovil': False, 'usar_fami_tienecomputador': False, 'usar_fami_tieneinternet': True, 'usar_fami_tienelavadora': False, 'n_layers': 1, 'activation': 'elu', 'dropout': 0.30436042283423964, 'lr': 0.0007079691931728892, 'batch_size': 64, 'n_units_0': 39}. Best is trial 1 with value: 0.29271405935287476.\n",
      "c:\\Users\\ASUS\\AppData\\Local\\Programs\\Python\\Python311\\Lib\\site-packages\\keras\\src\\layers\\core\\dense.py:87: UserWarning: Do not pass an `input_shape`/`input_dim` argument to a layer. When using Sequential models, prefer using an `Input(shape)` object as the first layer in the model instead.\n",
      "  super().__init__(activity_regularizer=activity_regularizer, **kwargs)\n",
      "2025/05/25 12:46:10 WARNING mlflow.keras.save: You are saving a Keras model without specifying model signature.\n",
      "2025/05/25 12:46:22 WARNING mlflow.models.model: Model logged without a signature and input example. Please set `input_example` parameter when logging the model to auto infer the model signature.\n",
      "[I 2025-05-25 12:46:22,149] Trial 2 finished with value: 0.3147905170917511 and parameters: {'usar_estu_genero': True, 'usar_fami_educacionmadre': True, 'usar_fami_educacionpadre': False, 'usar_fami_estratovivienda': True, 'usar_fami_personashogar': False, 'usar_fami_cuartoshogar': True, 'usar_fami_tieneautomovil': True, 'usar_fami_tienecomputador': False, 'usar_fami_tieneinternet': True, 'usar_fami_tienelavadora': False, 'n_layers': 4, 'activation': 'tanh', 'dropout': 0.23937376534248514, 'lr': 0.0016760748339264, 'batch_size': 64, 'n_units_0': 120, 'n_units_1': 95, 'n_units_2': 63, 'n_units_3': 97}. Best is trial 2 with value: 0.3147905170917511.\n",
      "c:\\Users\\ASUS\\AppData\\Local\\Programs\\Python\\Python311\\Lib\\site-packages\\keras\\src\\layers\\core\\dense.py:87: UserWarning: Do not pass an `input_shape`/`input_dim` argument to a layer. When using Sequential models, prefer using an `Input(shape)` object as the first layer in the model instead.\n",
      "  super().__init__(activity_regularizer=activity_regularizer, **kwargs)\n",
      "2025/05/25 12:57:00 WARNING mlflow.keras.save: You are saving a Keras model without specifying model signature.\n",
      "2025/05/25 12:57:08 WARNING mlflow.models.model: Model logged without a signature and input example. Please set `input_example` parameter when logging the model to auto infer the model signature.\n",
      "[I 2025-05-25 12:57:08,581] Trial 3 finished with value: 0.3135501742362976 and parameters: {'usar_estu_genero': True, 'usar_fami_educacionmadre': False, 'usar_fami_educacionpadre': True, 'usar_fami_estratovivienda': True, 'usar_fami_personashogar': True, 'usar_fami_cuartoshogar': True, 'usar_fami_tieneautomovil': False, 'usar_fami_tienecomputador': False, 'usar_fami_tieneinternet': True, 'usar_fami_tienelavadora': False, 'n_layers': 1, 'activation': 'elu', 'dropout': 0.4957828843786846, 'lr': 0.00019755053539360597, 'batch_size': 16, 'n_units_0': 89}. Best is trial 2 with value: 0.3147905170917511.\n",
      "c:\\Users\\ASUS\\AppData\\Local\\Programs\\Python\\Python311\\Lib\\site-packages\\keras\\src\\layers\\core\\dense.py:87: UserWarning: Do not pass an `input_shape`/`input_dim` argument to a layer. When using Sequential models, prefer using an `Input(shape)` object as the first layer in the model instead.\n",
      "  super().__init__(activity_regularizer=activity_regularizer, **kwargs)\n",
      "2025/05/25 12:59:29 WARNING mlflow.keras.save: You are saving a Keras model without specifying model signature.\n",
      "2025/05/25 12:59:38 WARNING mlflow.models.model: Model logged without a signature and input example. Please set `input_example` parameter when logging the model to auto infer the model signature.\n",
      "[I 2025-05-25 12:59:38,059] Trial 4 finished with value: 0.2866283059120178 and parameters: {'usar_estu_genero': False, 'usar_fami_educacionmadre': False, 'usar_fami_educacionpadre': True, 'usar_fami_estratovivienda': False, 'usar_fami_personashogar': False, 'usar_fami_cuartoshogar': True, 'usar_fami_tieneautomovil': False, 'usar_fami_tienecomputador': False, 'usar_fami_tieneinternet': True, 'usar_fami_tienelavadora': True, 'n_layers': 1, 'activation': 'relu', 'dropout': 0.20873080908252142, 'lr': 0.0001379506698888531, 'batch_size': 64, 'n_units_0': 53}. Best is trial 2 with value: 0.3147905170917511.\n"
     ]
    },
    {
     "name": "stdout",
     "output_type": "stream",
     "text": [
      "✅ Mejores hiperparámetros guardados en 'mejores_params_modelo2.json'\n"
     ]
    }
   ],
   "source": [
    "import optuna\n",
    "import mlflow\n",
    "import json\n",
    "\n",
    "# Configurar experimento en MLflow\n",
    "mlflow.set_experiment(\"icfes_red_neuronal_optuna_Acc_Final\")\n",
    "\n",
    "# Crear y ejecutar el estudio\n",
    "studyAcc = optuna.create_study(direction=\"maximize\")\n",
    "studyAcc.optimize(objectiveAcc, n_trials=5)\n",
    "\n",
    "# Guardar los mejores hiperparámetros (excluyendo los booleanos \"usar_<feature>\")\n",
    "mejores_params = {k: v for k, v in studyAcc.best_params.items() if not k.startswith(\"usar_\")}\n",
    "\n",
    "with open(\"mejores_params_modeloAcc.json\", \"w\") as f:\n",
    "    json.dump(mejores_params, f, indent=4)\n",
    "\n",
    "print(\"✅ Mejores hiperparámetros guardados en 'mejores_params_modelo2.json'\")\n"
   ]
  },
  {
   "cell_type": "code",
   "execution_count": 5,
   "id": "88f85096",
   "metadata": {},
   "outputs": [
    {
     "name": "stdout",
     "output_type": "stream",
     "text": [
      "Mejores parámetros encontrados:\n",
      "{\n",
      "  \"usar_estu_genero\": true,\n",
      "  \"usar_fami_educacionmadre\": true,\n",
      "  \"usar_fami_educacionpadre\": false,\n",
      "  \"usar_fami_estratovivienda\": true,\n",
      "  \"usar_fami_personashogar\": false,\n",
      "  \"usar_fami_cuartoshogar\": true,\n",
      "  \"usar_fami_tieneautomovil\": true,\n",
      "  \"usar_fami_tienecomputador\": false,\n",
      "  \"usar_fami_tieneinternet\": true,\n",
      "  \"usar_fami_tienelavadora\": false,\n",
      "  \"n_layers\": 4,\n",
      "  \"activation\": \"tanh\",\n",
      "  \"dropout\": 0.23937376534248514,\n",
      "  \"lr\": 0.0016760748339264,\n",
      "  \"batch_size\": 64,\n",
      "  \"n_units_0\": 120,\n",
      "  \"n_units_1\": 95,\n",
      "  \"n_units_2\": 63,\n",
      "  \"n_units_3\": 97\n",
      "}\n",
      "\n",
      "Features seleccionadas: ['estu_genero', 'fami_educacionmadre', 'fami_estratovivienda', 'fami_cuartoshogar', 'fami_tieneautomovil', 'fami_tieneinternet']\n",
      "Epoch 1/20\n"
     ]
    },
    {
     "name": "stderr",
     "output_type": "stream",
     "text": [
      "c:\\Users\\ASUS\\AppData\\Local\\Programs\\Python\\Python311\\Lib\\site-packages\\keras\\src\\layers\\core\\dense.py:87: UserWarning: Do not pass an `input_shape`/`input_dim` argument to a layer. When using Sequential models, prefer using an `Input(shape)` object as the first layer in the model instead.\n",
      "  super().__init__(activity_regularizer=activity_regularizer, **kwargs)\n"
     ]
    },
    {
     "name": "stdout",
     "output_type": "stream",
     "text": [
      "\u001b[1m5604/5604\u001b[0m \u001b[32m━━━━━━━━━━━━━━━━━━━━\u001b[0m\u001b[37m\u001b[0m \u001b[1m11s\u001b[0m 2ms/step - accuracy: 0.2963 - loss: 1.5457 - val_accuracy: 0.3111 - val_loss: 1.5268\n",
      "Epoch 2/20\n",
      "\u001b[1m5604/5604\u001b[0m \u001b[32m━━━━━━━━━━━━━━━━━━━━\u001b[0m\u001b[37m\u001b[0m \u001b[1m10s\u001b[0m 2ms/step - accuracy: 0.3042 - loss: 1.5333 - val_accuracy: 0.2998 - val_loss: 1.5322\n",
      "Epoch 3/20\n",
      "\u001b[1m5604/5604\u001b[0m \u001b[32m━━━━━━━━━━━━━━━━━━━━\u001b[0m\u001b[37m\u001b[0m \u001b[1m11s\u001b[0m 2ms/step - accuracy: 0.3069 - loss: 1.5317 - val_accuracy: 0.3119 - val_loss: 1.5285\n",
      "Epoch 4/20\n",
      "\u001b[1m5604/5604\u001b[0m \u001b[32m━━━━━━━━━━━━━━━━━━━━\u001b[0m\u001b[37m\u001b[0m \u001b[1m10s\u001b[0m 2ms/step - accuracy: 0.3042 - loss: 1.5324 - val_accuracy: 0.3068 - val_loss: 1.5280\n",
      "Epoch 5/20\n",
      "\u001b[1m5604/5604\u001b[0m \u001b[32m━━━━━━━━━━━━━━━━━━━━\u001b[0m\u001b[37m\u001b[0m \u001b[1m10s\u001b[0m 2ms/step - accuracy: 0.3037 - loss: 1.5332 - val_accuracy: 0.3128 - val_loss: 1.5249\n",
      "Epoch 6/20\n",
      "\u001b[1m5604/5604\u001b[0m \u001b[32m━━━━━━━━━━━━━━━━━━━━\u001b[0m\u001b[37m\u001b[0m \u001b[1m10s\u001b[0m 2ms/step - accuracy: 0.3058 - loss: 1.5327 - val_accuracy: 0.3118 - val_loss: 1.5265\n",
      "Epoch 7/20\n",
      "\u001b[1m5604/5604\u001b[0m \u001b[32m━━━━━━━━━━━━━━━━━━━━\u001b[0m\u001b[37m\u001b[0m \u001b[1m10s\u001b[0m 2ms/step - accuracy: 0.3049 - loss: 1.5313 - val_accuracy: 0.3132 - val_loss: 1.5264\n",
      "Epoch 8/20\n",
      "\u001b[1m5604/5604\u001b[0m \u001b[32m━━━━━━━━━━━━━━━━━━━━\u001b[0m\u001b[37m\u001b[0m \u001b[1m10s\u001b[0m 2ms/step - accuracy: 0.3041 - loss: 1.5328 - val_accuracy: 0.3125 - val_loss: 1.5340\n",
      "Epoch 9/20\n",
      "\u001b[1m5604/5604\u001b[0m \u001b[32m━━━━━━━━━━━━━━━━━━━━\u001b[0m\u001b[37m\u001b[0m \u001b[1m10s\u001b[0m 2ms/step - accuracy: 0.3036 - loss: 1.5329 - val_accuracy: 0.3024 - val_loss: 1.5263\n",
      "Epoch 10/20\n",
      "\u001b[1m5604/5604\u001b[0m \u001b[32m━━━━━━━━━━━━━━━━━━━━\u001b[0m\u001b[37m\u001b[0m \u001b[1m11s\u001b[0m 2ms/step - accuracy: 0.3038 - loss: 1.5333 - val_accuracy: 0.3136 - val_loss: 1.5254\n",
      "Epoch 11/20\n",
      "\u001b[1m5604/5604\u001b[0m \u001b[32m━━━━━━━━━━━━━━━━━━━━\u001b[0m\u001b[37m\u001b[0m \u001b[1m14s\u001b[0m 2ms/step - accuracy: 0.3044 - loss: 1.5334 - val_accuracy: 0.3130 - val_loss: 1.5280\n",
      "Epoch 12/20\n",
      "\u001b[1m5604/5604\u001b[0m \u001b[32m━━━━━━━━━━━━━━━━━━━━\u001b[0m\u001b[37m\u001b[0m \u001b[1m12s\u001b[0m 2ms/step - accuracy: 0.3031 - loss: 1.5346 - val_accuracy: 0.3097 - val_loss: 1.5265\n",
      "Epoch 13/20\n",
      "\u001b[1m5604/5604\u001b[0m \u001b[32m━━━━━━━━━━━━━━━━━━━━\u001b[0m\u001b[37m\u001b[0m \u001b[1m15s\u001b[0m 3ms/step - accuracy: 0.3028 - loss: 1.5334 - val_accuracy: 0.3076 - val_loss: 1.5319\n",
      "Epoch 14/20\n",
      "\u001b[1m5604/5604\u001b[0m \u001b[32m━━━━━━━━━━━━━━━━━━━━\u001b[0m\u001b[37m\u001b[0m \u001b[1m12s\u001b[0m 2ms/step - accuracy: 0.3020 - loss: 1.5338 - val_accuracy: 0.3125 - val_loss: 1.5261\n",
      "Epoch 15/20\n",
      "\u001b[1m5604/5604\u001b[0m \u001b[32m━━━━━━━━━━━━━━━━━━━━\u001b[0m\u001b[37m\u001b[0m \u001b[1m12s\u001b[0m 2ms/step - accuracy: 0.3019 - loss: 1.5348 - val_accuracy: 0.3095 - val_loss: 1.5291\n",
      "Epoch 16/20\n",
      "\u001b[1m5604/5604\u001b[0m \u001b[32m━━━━━━━━━━━━━━━━━━━━\u001b[0m\u001b[37m\u001b[0m \u001b[1m13s\u001b[0m 2ms/step - accuracy: 0.3030 - loss: 1.5345 - val_accuracy: 0.3018 - val_loss: 1.5299\n",
      "Epoch 17/20\n",
      "\u001b[1m5604/5604\u001b[0m \u001b[32m━━━━━━━━━━━━━━━━━━━━\u001b[0m\u001b[37m\u001b[0m \u001b[1m14s\u001b[0m 3ms/step - accuracy: 0.3017 - loss: 1.5353 - val_accuracy: 0.3034 - val_loss: 1.5314\n",
      "Epoch 18/20\n",
      "\u001b[1m5604/5604\u001b[0m \u001b[32m━━━━━━━━━━━━━━━━━━━━\u001b[0m\u001b[37m\u001b[0m \u001b[1m13s\u001b[0m 2ms/step - accuracy: 0.3022 - loss: 1.5357 - val_accuracy: 0.3107 - val_loss: 1.5314\n",
      "Epoch 19/20\n",
      "\u001b[1m5604/5604\u001b[0m \u001b[32m━━━━━━━━━━━━━━━━━━━━\u001b[0m\u001b[37m\u001b[0m \u001b[1m9s\u001b[0m 2ms/step - accuracy: 0.3028 - loss: 1.5350 - val_accuracy: 0.2952 - val_loss: 1.5296\n",
      "Epoch 20/20\n",
      "\u001b[1m5604/5604\u001b[0m \u001b[32m━━━━━━━━━━━━━━━━━━━━\u001b[0m\u001b[37m\u001b[0m \u001b[1m9s\u001b[0m 2ms/step - accuracy: 0.3040 - loss: 1.5349 - val_accuracy: 0.2995 - val_loss: 1.5343\n",
      "\u001b[1m3503/3503\u001b[0m \u001b[32m━━━━━━━━━━━━━━━━━━━━\u001b[0m\u001b[37m\u001b[0m \u001b[1m2s\u001b[0m 621us/step\n",
      "\n",
      "🎯 RESULTADOS DEL MEJOR MODELO:\n",
      "Accuracy: 0.2991\n",
      "F1-Score: 0.2213\n",
      "Best trial value: 0.3148\n",
      "\n",
      "Reporte de clasificación:\n",
      "              precision    recall  f1-score   support\n",
      "\n",
      "           0       0.00      0.00      0.00     11172\n",
      "           1       0.27      0.06      0.10     27393\n",
      "           2       0.30      0.20      0.24     17093\n",
      "           3       0.31      0.80      0.45     32037\n",
      "           4       0.23      0.11      0.15     24370\n",
      "\n",
      "    accuracy                           0.30    112065\n",
      "   macro avg       0.22      0.24      0.19    112065\n",
      "weighted avg       0.25      0.30      0.22    112065\n",
      "\n"
     ]
    },
    {
     "name": "stderr",
     "output_type": "stream",
     "text": [
      "c:\\Users\\ASUS\\AppData\\Local\\Programs\\Python\\Python311\\Lib\\site-packages\\sklearn\\metrics\\_classification.py:1565: UndefinedMetricWarning: Precision is ill-defined and being set to 0.0 in labels with no predicted samples. Use `zero_division` parameter to control this behavior.\n",
      "  _warn_prf(average, modifier, f\"{metric.capitalize()} is\", len(result))\n",
      "c:\\Users\\ASUS\\AppData\\Local\\Programs\\Python\\Python311\\Lib\\site-packages\\sklearn\\metrics\\_classification.py:1565: UndefinedMetricWarning: Precision is ill-defined and being set to 0.0 in labels with no predicted samples. Use `zero_division` parameter to control this behavior.\n",
      "  _warn_prf(average, modifier, f\"{metric.capitalize()} is\", len(result))\n",
      "c:\\Users\\ASUS\\AppData\\Local\\Programs\\Python\\Python311\\Lib\\site-packages\\sklearn\\metrics\\_classification.py:1565: UndefinedMetricWarning: Precision is ill-defined and being set to 0.0 in labels with no predicted samples. Use `zero_division` parameter to control this behavior.\n",
      "  _warn_prf(average, modifier, f\"{metric.capitalize()} is\", len(result))\n"
     ]
    }
   ],
   "source": [
    "from sklearn.metrics import classification_report, f1_score\n",
    "\n",
    "# Obtener los mejores parámetros del estudio\n",
    "best_params = studyAcc.best_params\n",
    "print(\"Mejores parámetros encontrados:\")\n",
    "print(json.dumps(best_params, indent=2))\n",
    "\n",
    "# Recrear el modelo con los mejores parámetros\n",
    "selected_features = [f for f in features_all if best_params.get(f\"usar_{f}\", False)]\n",
    "print(f\"\\nFeatures seleccionadas: {selected_features}\")\n",
    "\n",
    "# Preparar datos con las mejores features\n",
    "X = df[selected_features].copy()\n",
    "y = df['materia_menor_puntaje']\n",
    "\n",
    "# Encoding\n",
    "for col in X.select_dtypes(include='object').columns:\n",
    "    X[col] = LabelEncoder().fit_transform(X[col].astype(str))\n",
    "\n",
    "scaler = StandardScaler()\n",
    "X_scaled = scaler.fit_transform(X)\n",
    "y_encoded = LabelEncoder().fit_transform(y)\n",
    "\n",
    "X_train, X_test, y_train, y_test = train_test_split(X_scaled, y_encoded, test_size=0.2, random_state=42, stratify=y_encoded)\n",
    "\n",
    "# Crear el mejor modelo\n",
    "model = Sequential()\n",
    "model.add(Dense(best_params['n_units_0'], activation=best_params['activation'], input_shape=(X_train.shape[1],)))\n",
    "model.add(Dropout(best_params['dropout']))\n",
    "\n",
    "for i in range(1, best_params['n_layers']):\n",
    "    model.add(Dense(best_params[f'n_units_{i}'], activation=best_params['activation']))\n",
    "    model.add(Dropout(best_params['dropout']))\n",
    "\n",
    "model.add(Dense(5, activation='softmax'))\n",
    "\n",
    "# Compilar y entrenar\n",
    "model.compile(optimizer=Adam(learning_rate=best_params['lr']),\n",
    "              loss='sparse_categorical_crossentropy',\n",
    "              metrics=['accuracy'])\n",
    "\n",
    "model.fit(X_train, y_train, validation_split=0.2, epochs=20, batch_size=best_params['batch_size'], verbose=1)\n",
    "\n",
    "# Evaluar\n",
    "y_pred = model.predict(X_test)\n",
    "y_pred_classes = np.argmax(y_pred, axis=1)\n",
    "\n",
    "accuracy = model.evaluate(X_test, y_test, verbose=0)[1]\n",
    "f1 = f1_score(y_test, y_pred_classes, average='weighted')\n",
    "\n",
    "print(f\"\\n🎯 RESULTADOS DEL MEJOR MODELO:\")\n",
    "print(f\"Accuracy: {accuracy:.4f}\")\n",
    "print(f\"F1-Score: {f1:.4f}\")\n",
    "print(f\"Best trial value: {studyAcc.best_value:.4f}\")\n",
    "\n",
    "print(\"\\nReporte de clasificación:\")\n",
    "print(classification_report(y_test, y_pred_classes))"
   ]
  },
  {
   "cell_type": "markdown",
   "id": "27178ad8",
   "metadata": {},
   "source": [
    "Guardar en h5 y pkl\n"
   ]
  },
  {
   "cell_type": "code",
   "execution_count": 6,
   "id": "1b3d369a",
   "metadata": {},
   "outputs": [
    {
     "name": "stderr",
     "output_type": "stream",
     "text": [
      "WARNING:absl:You are saving your model as an HDF5 file via `model.save()` or `keras.saving.save_model(model)`. This file format is considered legacy. We recommend using instead the native Keras format, e.g. `model.save('my_model.keras')` or `keras.saving.save_model(model, 'my_model.keras')`. \n"
     ]
    },
    {
     "name": "stdout",
     "output_type": "stream",
     "text": [
      "✅ Modelo y componentes guardados exitosamente:\n",
      "- mejor_modelo_f1.h5 (modelo de Keras)\n",
      "- scaler.pkl (StandardScaler)\n",
      "- selected_features.pkl (features seleccionadas)\n",
      "- label_encoder_y.pkl (codificador de variable objetivo)\n",
      "- best_params.pkl (mejores parámetros)\n"
     ]
    }
   ],
   "source": [
    "import pickle\n",
    "\n",
    "# Guardar el modelo entrenado en formato .h5\n",
    "model.save('mejor_modelo_f1.h5')\n",
    "\n",
    "# Guardar el scaler y otros componentes necesarios en formato .pkl\n",
    "\n",
    "# Guardar el scaler\n",
    "with open('scaler.pkl', 'wb') as f:\n",
    "    pickle.dump(scaler, f)\n",
    "\n",
    "# Guardar las features seleccionadas\n",
    "with open('selected_features.pkl', 'wb') as f:\n",
    "    pickle.dump(selected_features, f)\n",
    "\n",
    "# Guardar el label encoder para la variable objetivo\n",
    "label_encoder_y = LabelEncoder()\n",
    "label_encoder_y.fit(y)\n",
    "with open('label_encoder_y.pkl', 'wb') as f:\n",
    "    pickle.dump(label_encoder_y, f)\n",
    "\n",
    "# Guardar los mejores parámetros en formato pickle también\n",
    "with open('best_params.pkl', 'wb') as f:\n",
    "    pickle.dump(best_params, f)\n",
    "\n",
    "print(\"✅ Modelo y componentes guardados exitosamente:\")\n",
    "print(\"- mejor_modelo_f1.h5 (modelo de Keras)\")\n",
    "print(\"- scaler.pkl (StandardScaler)\")\n",
    "print(\"- selected_features.pkl (features seleccionadas)\")\n",
    "print(\"- label_encoder_y.pkl (codificador de variable objetivo)\")\n",
    "print(\"- best_params.pkl (mejores parámetros)\")"
   ]
  },
  {
   "cell_type": "code",
   "execution_count": 7,
   "id": "94e50d8d",
   "metadata": {},
   "outputs": [
    {
     "data": {
      "image/png": "[encoded data removed]",
      "text/plain": [
       "<Figure size 1000x800 with 2 Axes>"
      ]
     },
     "metadata": {},
     "output_type": "display_data"
    },
    {
     "name": "stdout",
     "output_type": "stream",
     "text": [
      "Matriz de Confusión:\n",
      "[[    0   604  1543  7766  1259]\n",
      " [    0  1602  1702 20932  3157]\n",
      " [    0  1104  3454 10264  2271]\n",
      " [    0  1357  2385 25747  2548]\n",
      " [    0  1351  2438 17861  2720]]\n",
      "\n",
      "Clases: ['punt_c_naturales' 'punt_ingles' 'punt_lectura_critica'\n",
      " 'punt_matematicas' 'punt_sociales_ciudadanas']\n"
     ]
    }
   ],
   "source": [
    "from sklearn.metrics import confusion_matrix\n",
    "import seaborn as sns\n",
    "\n",
    "import matplotlib.pyplot as plt\n",
    "\n",
    "# Crear la matriz de confusión\n",
    "cm = confusion_matrix(y_test, y_pred_classes)\n",
    "\n",
    "# Obtener las etiquetas de las clases\n",
    "class_labels = label_encoder_y.classes_\n",
    "\n",
    "# Crear el gráfico de la matriz de confusión\n",
    "plt.figure(figsize=(10, 8))\n",
    "sns.heatmap(cm, annot=True, fmt='d', cmap='Blues', \n",
    "            xticklabels=class_labels, yticklabels=class_labels)\n",
    "plt.title('Matriz de Confusión')\n",
    "plt.xlabel('Predicción')\n",
    "plt.ylabel('Valor Real')\n",
    "plt.xticks(rotation=45)\n",
    "plt.yticks(rotation=0)\n",
    "plt.tight_layout()\n",
    "plt.show()\n",
    "\n",
    "# Mostrar también los valores numéricos\n",
    "print(\"Matriz de Confusión:\")\n",
    "print(cm)\n",
    "print(f\"\\nClases: {class_labels}\")"
   ]
  },
  {
   "cell_type": "code",
   "execution_count": 8,
   "id": "81e1f8a1",
   "metadata": {},
   "outputs": [
    {
     "name": "stdout",
     "output_type": "stream",
     "text": [
      "Distribución original de clases:\n",
      "Clase 0 (punt_c_naturales): 44686 muestras\n",
      "Clase 1 (punt_ingles): 109572 muestras\n",
      "Clase 2 (punt_lectura_critica): 68371 muestras\n",
      "Clase 3 (punt_matematicas): 128149 muestras\n",
      "Clase 4 (punt_sociales_ciudadanas): 97478 muestras\n",
      "\n",
      "Haciendo upsampling a 128149 muestras por clase...\n",
      "\n",
      "Distribución después del upsampling:\n",
      "Clase 0 (punt_c_naturales): 128149 muestras\n",
      "Clase 1 (punt_ingles): 128149 muestras\n",
      "Clase 2 (punt_lectura_critica): 128149 muestras\n",
      "Clase 3 (punt_matematicas): 128149 muestras\n",
      "Clase 4 (punt_sociales_ciudadanas): 128149 muestras\n",
      "\n",
      "Tamaño original del conjunto de entrenamiento: 448256\n",
      "Tamaño después del upsampling: 640745\n"
     ]
    }
   ],
   "source": [
    "from sklearn.utils import resample\n",
    "\n",
    "# Mostrar la distribución original de clases\n",
    "print(\"Distribución original de clases:\")\n",
    "unique, counts = np.unique(y_train, return_counts=True)\n",
    "for i, count in zip(unique, counts):\n",
    "    print(f\"Clase {i} ({class_labels[i]}): {count} muestras\")\n",
    "\n",
    "# Separar las muestras por clase\n",
    "X_train_resampled = []\n",
    "y_train_resampled = []\n",
    "\n",
    "# Encontrar la clase mayoritaria para hacer upsampling\n",
    "max_samples = max(counts)\n",
    "print(f\"\\nHaciendo upsampling a {max_samples} muestras por clase...\")\n",
    "\n",
    "for class_idx in unique:\n",
    "    # Obtener índices de la clase actual\n",
    "    class_indices = np.where(y_train == class_idx)[0]\n",
    "    X_class = X_train[class_indices]\n",
    "    y_class = y_train[class_indices]\n",
    "    \n",
    "    # Hacer upsampling si la clase tiene menos muestras que la mayoritaria\n",
    "    if len(X_class) < max_samples:\n",
    "        X_class_upsampled, y_class_upsampled = resample(\n",
    "            X_class, y_class,\n",
    "            replace=True,  # Permitir repetición\n",
    "            n_samples=max_samples,\n",
    "            random_state=42\n",
    "        )\n",
    "    else:\n",
    "        X_class_upsampled = X_class\n",
    "        y_class_upsampled = y_class\n",
    "    \n",
    "    X_train_resampled.append(X_class_upsampled)\n",
    "    y_train_resampled.append(y_class_upsampled)\n",
    "\n",
    "# Concatenar todas las clases rebalanceadas\n",
    "X_train_balanced = np.vstack(X_train_resampled)\n",
    "y_train_balanced = np.hstack(y_train_resampled)\n",
    "\n",
    "# Mezclar los datos\n",
    "shuffle_indices = np.random.permutation(len(X_train_balanced))\n",
    "X_train_balanced = X_train_balanced[shuffle_indices]\n",
    "y_train_balanced = y_train_balanced[shuffle_indices]\n",
    "\n",
    "print(\"\\nDistribución después del upsampling:\")\n",
    "unique_balanced, counts_balanced = np.unique(y_train_balanced, return_counts=True)\n",
    "for i, count in zip(unique_balanced, counts_balanced):\n",
    "    print(f\"Clase {i} ({class_labels[i]}): {count} muestras\")\n",
    "\n",
    "print(f\"\\nTamaño original del conjunto de entrenamiento: {len(X_train)}\")\n",
    "print(f\"Tamaño después del upsampling: {len(X_train_balanced)}\")"
   ]
  },
  {
   "cell_type": "code",
   "execution_count": 9,
   "id": "6a38337b",
   "metadata": {},
   "outputs": [
    {
     "name": "stdout",
     "output_type": "stream",
     "text": [
      "🔄 Entrenando modelo final con datos balanceados...\n",
      "Epoch 1/20\n"
     ]
    },
    {
     "name": "stderr",
     "output_type": "stream",
     "text": [
      "c:\\Users\\ASUS\\AppData\\Local\\Programs\\Python\\Python311\\Lib\\site-packages\\keras\\src\\layers\\core\\dense.py:87: UserWarning: Do not pass an `input_shape`/`input_dim` argument to a layer. When using Sequential models, prefer using an `Input(shape)` object as the first layer in the model instead.\n",
      "  super().__init__(activity_regularizer=activity_regularizer, **kwargs)\n"
     ]
    },
    {
     "name": "stdout",
     "output_type": "stream",
     "text": [
      "\u001b[1m8010/8010\u001b[0m \u001b[32m━━━━━━━━━━━━━━━━━━━━\u001b[0m\u001b[37m\u001b[0m \u001b[1m13s\u001b[0m 2ms/step - accuracy: 0.2434 - loss: 1.6001 - val_accuracy: 0.2543 - val_loss: 1.5919\n",
      "Epoch 2/20\n",
      "\u001b[1m8010/8010\u001b[0m \u001b[32m━━━━━━━━━━━━━━━━━━━━\u001b[0m\u001b[37m\u001b[0m \u001b[1m12s\u001b[0m 1ms/step - accuracy: 0.2489 - loss: 1.5909 - val_accuracy: 0.2573 - val_loss: 1.5897\n",
      "Epoch 3/20\n",
      "\u001b[1m8010/8010\u001b[0m \u001b[32m━━━━━━━━━━━━━━━━━━━━\u001b[0m\u001b[37m\u001b[0m \u001b[1m12s\u001b[0m 2ms/step - accuracy: 0.2482 - loss: 1.5914 - val_accuracy: 0.2535 - val_loss: 1.5863\n",
      "Epoch 4/20\n",
      "\u001b[1m8010/8010\u001b[0m \u001b[32m━━━━━━━━━━━━━━━━━━━━\u001b[0m\u001b[37m\u001b[0m \u001b[1m12s\u001b[0m 2ms/step - accuracy: 0.2483 - loss: 1.5903 - val_accuracy: 0.2571 - val_loss: 1.5877\n",
      "Epoch 5/20\n",
      "\u001b[1m8010/8010\u001b[0m \u001b[32m━━━━━━━━━━━━━━━━━━━━\u001b[0m\u001b[37m\u001b[0m \u001b[1m12s\u001b[0m 2ms/step - accuracy: 0.2493 - loss: 1.5903 - val_accuracy: 0.2545 - val_loss: 1.5892\n",
      "Epoch 6/20\n",
      "\u001b[1m8010/8010\u001b[0m \u001b[32m━━━━━━━━━━━━━━━━━━━━\u001b[0m\u001b[37m\u001b[0m \u001b[1m12s\u001b[0m 2ms/step - accuracy: 0.2496 - loss: 1.5906 - val_accuracy: 0.2499 - val_loss: 1.5878\n",
      "Epoch 7/20\n",
      "\u001b[1m8010/8010\u001b[0m \u001b[32m━━━━━━━━━━━━━━━━━━━━\u001b[0m\u001b[37m\u001b[0m \u001b[1m12s\u001b[0m 2ms/step - accuracy: 0.2483 - loss: 1.5905 - val_accuracy: 0.2490 - val_loss: 1.5861\n",
      "Epoch 8/20\n",
      "\u001b[1m8010/8010\u001b[0m \u001b[32m━━━━━━━━━━━━━━━━━━━━\u001b[0m\u001b[37m\u001b[0m \u001b[1m12s\u001b[0m 2ms/step - accuracy: 0.2467 - loss: 1.5913 - val_accuracy: 0.2552 - val_loss: 1.5874\n",
      "Epoch 9/20\n",
      "\u001b[1m8010/8010\u001b[0m \u001b[32m━━━━━━━━━━━━━━━━━━━━\u001b[0m\u001b[37m\u001b[0m \u001b[1m12s\u001b[0m 2ms/step - accuracy: 0.2487 - loss: 1.5910 - val_accuracy: 0.2537 - val_loss: 1.5865\n",
      "Epoch 10/20\n",
      "\u001b[1m8010/8010\u001b[0m \u001b[32m━━━━━━━━━━━━━━━━━━━━\u001b[0m\u001b[37m\u001b[0m \u001b[1m12s\u001b[0m 2ms/step - accuracy: 0.2479 - loss: 1.5910 - val_accuracy: 0.2533 - val_loss: 1.5855\n",
      "Epoch 11/20\n",
      "\u001b[1m8010/8010\u001b[0m \u001b[32m━━━━━━━━━━━━━━━━━━━━\u001b[0m\u001b[37m\u001b[0m \u001b[1m12s\u001b[0m 2ms/step - accuracy: 0.2478 - loss: 1.5918 - val_accuracy: 0.2468 - val_loss: 1.5855\n",
      "Epoch 12/20\n",
      "\u001b[1m8010/8010\u001b[0m \u001b[32m━━━━━━━━━━━━━━━━━━━━\u001b[0m\u001b[37m\u001b[0m \u001b[1m13s\u001b[0m 2ms/step - accuracy: 0.2476 - loss: 1.5914 - val_accuracy: 0.2411 - val_loss: 1.5917\n",
      "Epoch 13/20\n",
      "\u001b[1m8010/8010\u001b[0m \u001b[32m━━━━━━━━━━━━━━━━━━━━\u001b[0m\u001b[37m\u001b[0m \u001b[1m13s\u001b[0m 2ms/step - accuracy: 0.2461 - loss: 1.5926 - val_accuracy: 0.2553 - val_loss: 1.5852\n",
      "Epoch 14/20\n",
      "\u001b[1m8010/8010\u001b[0m \u001b[32m━━━━━━━━━━━━━━━━━━━━\u001b[0m\u001b[37m\u001b[0m \u001b[1m13s\u001b[0m 2ms/step - accuracy: 0.2456 - loss: 1.5929 - val_accuracy: 0.2573 - val_loss: 1.5914\n",
      "Epoch 15/20\n",
      "\u001b[1m8010/8010\u001b[0m \u001b[32m━━━━━━━━━━━━━━━━━━━━\u001b[0m\u001b[37m\u001b[0m \u001b[1m13s\u001b[0m 2ms/step - accuracy: 0.2461 - loss: 1.5931 - val_accuracy: 0.2507 - val_loss: 1.5891\n",
      "Epoch 16/20\n",
      "\u001b[1m8010/8010\u001b[0m \u001b[32m━━━━━━━━━━━━━━━━━━━━\u001b[0m\u001b[37m\u001b[0m \u001b[1m13s\u001b[0m 2ms/step - accuracy: 0.2450 - loss: 1.5931 - val_accuracy: 0.2486 - val_loss: 1.5844\n",
      "Epoch 17/20\n",
      "\u001b[1m8010/8010\u001b[0m \u001b[32m━━━━━━━━━━━━━━━━━━━━\u001b[0m\u001b[37m\u001b[0m \u001b[1m13s\u001b[0m 2ms/step - accuracy: 0.2453 - loss: 1.5934 - val_accuracy: 0.2468 - val_loss: 1.5873\n",
      "Epoch 18/20\n",
      "\u001b[1m8010/8010\u001b[0m \u001b[32m━━━━━━━━━━━━━━━━━━━━\u001b[0m\u001b[37m\u001b[0m \u001b[1m13s\u001b[0m 2ms/step - accuracy: 0.2460 - loss: 1.5933 - val_accuracy: 0.2530 - val_loss: 1.5922\n",
      "Epoch 19/20\n",
      "\u001b[1m8010/8010\u001b[0m \u001b[32m━━━━━━━━━━━━━━━━━━━━\u001b[0m\u001b[37m\u001b[0m \u001b[1m13s\u001b[0m 2ms/step - accuracy: 0.2451 - loss: 1.5932 - val_accuracy: 0.2548 - val_loss: 1.5878\n",
      "Epoch 20/20\n",
      "\u001b[1m8010/8010\u001b[0m \u001b[32m━━━━━━━━━━━━━━━━━━━━\u001b[0m\u001b[37m\u001b[0m \u001b[1m13s\u001b[0m 2ms/step - accuracy: 0.2452 - loss: 1.5937 - val_accuracy: 0.2539 - val_loss: 1.5915\n",
      "\u001b[1m3503/3503\u001b[0m \u001b[32m━━━━━━━━━━━━━━━━━━━━\u001b[0m\u001b[37m\u001b[0m \u001b[1m2s\u001b[0m 596us/step\n",
      "\n",
      "🎯 RESULTADOS DEL MODELO CON DATOS BALANCEADOS:\n",
      "Accuracy: 0.3022\n",
      "F1-Score: 0.2565\n",
      "\n",
      "📊 COMPARACIÓN:\n",
      "Modelo original - Accuracy: 0.2991, F1-Score: 0.2213\n",
      "Modelo balanceado - Accuracy: 0.3022, F1-Score: 0.2565\n",
      "\n",
      "Reporte de clasificación (modelo balanceado):\n",
      "                          precision    recall  f1-score   support\n",
      "\n",
      "        punt_c_naturales       0.13      0.06      0.08     11172\n",
      "             punt_ingles       0.28      0.40      0.33     27393\n",
      "    punt_lectura_critica       0.28      0.25      0.26     17093\n",
      "        punt_matematicas       0.34      0.55      0.42     32037\n",
      "punt_sociales_ciudadanas       0.25      0.02      0.03     24370\n",
      "\n",
      "                accuracy                           0.30    112065\n",
      "               macro avg       0.26      0.25      0.23    112065\n",
      "            weighted avg       0.28      0.30      0.26    112065\n",
      "\n"
     ]
    }
   ],
   "source": [
    "# Entrenar el modelo final con los datos balanceados y mejores parámetros\n",
    "print(\"🔄 Entrenando modelo final con datos balanceados...\")\n",
    "\n",
    "# Crear el modelo con los mejores parámetros\n",
    "model_balanced = Sequential()\n",
    "model_balanced.add(Dense(best_params['n_units_0'], activation=best_params['activation'], input_shape=(X_train_balanced.shape[1],)))\n",
    "model_balanced.add(Dropout(best_params['dropout']))\n",
    "\n",
    "for i in range(1, best_params['n_layers']):\n",
    "    model_balanced.add(Dense(best_params[f'n_units_{i}'], activation=best_params['activation']))\n",
    "    model_balanced.add(Dropout(best_params['dropout']))\n",
    "\n",
    "model_balanced.add(Dense(5, activation='softmax'))\n",
    "\n",
    "# Compilar el modelo\n",
    "model_balanced.compile(optimizer=Adam(learning_rate=best_params['lr']),\n",
    "                      loss='sparse_categorical_crossentropy',\n",
    "                      metrics=['accuracy'])\n",
    "\n",
    "# Entrenar con datos balanceados\n",
    "history = model_balanced.fit(X_train_balanced, y_train_balanced, \n",
    "                            validation_split=0.2, \n",
    "                            epochs=20, \n",
    "                            batch_size=best_params['batch_size'], \n",
    "                            verbose=1)\n",
    "\n",
    "# Evaluar el modelo balanceado\n",
    "y_pred_balanced = model_balanced.predict(X_test)\n",
    "y_pred_classes_balanced = np.argmax(y_pred_balanced, axis=1)\n",
    "\n",
    "accuracy_balanced = model_balanced.evaluate(X_test, y_test, verbose=0)[1]\n",
    "f1_balanced = f1_score(y_test, y_pred_classes_balanced, average='weighted')\n",
    "\n",
    "print(f\"\\n🎯 RESULTADOS DEL MODELO CON DATOS BALANCEADOS:\")\n",
    "print(f\"Accuracy: {accuracy_balanced:.4f}\")\n",
    "print(f\"F1-Score: {f1_balanced:.4f}\")\n",
    "\n",
    "print(f\"\\n📊 COMPARACIÓN:\")\n",
    "print(f\"Modelo original - Accuracy: {accuracy:.4f}, F1-Score: {f1:.4f}\")\n",
    "print(f\"Modelo balanceado - Accuracy: {accuracy_balanced:.4f}, F1-Score: {f1_balanced:.4f}\")\n",
    "\n",
    "print(\"\\nReporte de clasificación (modelo balanceado):\")\n",
    "print(classification_report(y_test, y_pred_classes_balanced, target_names=class_labels))"
   ]
  },
  {
   "cell_type": "code",
   "execution_count": 10,
   "id": "4fe7985e",
   "metadata": {},
   "outputs": [
    {
     "data": {
      "image/png": "[encoded data removed]",
      "text/plain": [
       "<Figure size 1000x800 with 2 Axes>"
      ]
     },
     "metadata": {},
     "output_type": "display_data"
    },
    {
     "name": "stdout",
     "output_type": "stream",
     "text": [
      "Matriz de Confusión - Modelo Balanceado:\n",
      "[[  640  3684  2018  4693   137]\n",
      " [  929 11084  2368 12613   399]\n",
      " [  958  6237  4208  5526   164]\n",
      " [ 1427  9187  3360 17530   533]\n",
      " [ 1006  9127  3214 10615   408]]\n",
      "\n",
      "Clases: ['punt_c_naturales' 'punt_ingles' 'punt_lectura_critica'\n",
      " 'punt_matematicas' 'punt_sociales_ciudadanas']\n"
     ]
    }
   ],
   "source": [
    "# Crear la matriz de confusión para el modelo balanceado\n",
    "cm_balanced = confusion_matrix(y_test, y_pred_classes_balanced)\n",
    "\n",
    "# Crear el gráfico de la matriz de confusión del modelo balanceado\n",
    "plt.figure(figsize=(10, 8))\n",
    "sns.heatmap(cm_balanced, annot=True, fmt='d', cmap='Blues', \n",
    "            xticklabels=class_labels, yticklabels=class_labels)\n",
    "plt.title('Matriz de Confusión - Modelo Balanceado')\n",
    "plt.xlabel('Predicción')\n",
    "plt.ylabel('Valor Real')\n",
    "plt.xticks(rotation=45)\n",
    "plt.yticks(rotation=0)\n",
    "plt.tight_layout()\n",
    "plt.show()\n",
    "\n",
    "# Mostrar también los valores numéricos\n",
    "print(\"Matriz de Confusión - Modelo Balanceado:\")\n",
    "print(cm_balanced)\n",
    "print(f\"\\nClases: {class_labels}\")"
   ]
  },
  {
   "cell_type": "code",
   "execution_count": 11,
   "id": "75e45cf6",
   "metadata": {},
   "outputs": [
    {
     "name": "stderr",
     "output_type": "stream",
     "text": [
      "WARNING:absl:You are saving your model as an HDF5 file via `model.save()` or `keras.saving.save_model(model)`. This file format is considered legacy. We recommend using instead the native Keras format, e.g. `model.save('my_model.keras')` or `keras.saving.save_model(model, 'my_model.keras')`. \n"
     ]
    },
    {
     "name": "stdout",
     "output_type": "stream",
     "text": [
      "✅ Modelo balanceado y componentes guardados exitosamente:\n",
      "- mejor_modelo_balanceado.h5 (modelo de Keras balanceado)\n",
      "- scaler_balanceado.pkl (StandardScaler)\n",
      "- selected_features_balanceado.pkl (features seleccionadas)\n",
      "- label_encoder_y_balanceado.pkl (codificador de variable objetivo)\n",
      "- best_params_balanceado.pkl (mejores parámetros)\n",
      "- metricas_modelo_balanceado.pkl (métricas del modelo)\n",
      "\n",
      "📊 Métricas guardadas:\n",
      "- Accuracy: 0.3022\n",
      "- F1-Score: 0.2565\n"
     ]
    }
   ],
   "source": [
    "# Guardar el modelo balanceado entrenado en formato .h5\n",
    "model_balanced.save('mejor_modelo_balanceado.h5')\n",
    "\n",
    "# Guardar el scaler y otros componentes necesarios en formato .pkl\n",
    "# (Nota: el scaler y otros componentes ya están guardados, pero los guardamos con nombre específico para el modelo balanceado)\n",
    "\n",
    "# Guardar el scaler para el modelo balanceado\n",
    "with open('scaler_balanceado.pkl', 'wb') as f:\n",
    "    pickle.dump(scaler, f)\n",
    "\n",
    "# Guardar las features seleccionadas para el modelo balanceado\n",
    "with open('selected_features_balanceado.pkl', 'wb') as f:\n",
    "    pickle.dump(selected_features, f)\n",
    "\n",
    "# Guardar el label encoder para la variable objetivo del modelo balanceado\n",
    "with open('label_encoder_y_balanceado.pkl', 'wb') as f:\n",
    "    pickle.dump(label_encoder_y, f)\n",
    "\n",
    "# Guardar los mejores parámetros del modelo balanceado\n",
    "with open('best_params_balanceado.pkl', 'wb') as f:\n",
    "    pickle.dump(best_params, f)\n",
    "\n",
    "# Guardar métricas del modelo balanceado\n",
    "metricas_balanceado = {\n",
    "    'accuracy': accuracy_balanced,\n",
    "    'f1_score': f1_balanced,\n",
    "    'confusion_matrix': cm_balanced.tolist(),\n",
    "    'class_labels': class_labels.tolist()\n",
    "}\n",
    "\n",
    "with open('metricas_modelo_balanceado.pkl', 'wb') as f:\n",
    "    pickle.dump(metricas_balanceado, f)\n",
    "\n",
    "print(\"✅ Modelo balanceado y componentes guardados exitosamente:\")\n",
    "print(\"- mejor_modelo_balanceado.h5 (modelo de Keras balanceado)\")\n",
    "print(\"- scaler_balanceado.pkl (StandardScaler)\")\n",
    "print(\"- selected_features_balanceado.pkl (features seleccionadas)\")\n",
    "print(\"- label_encoder_y_balanceado.pkl (codificador de variable objetivo)\")\n",
    "print(\"- best_params_balanceado.pkl (mejores parámetros)\")\n",
    "print(\"- metricas_modelo_balanceado.pkl (métricas del modelo)\")\n",
    "\n",
    "print(f\"\\n📊 Métricas guardadas:\")\n",
    "print(f\"- Accuracy: {accuracy_balanced:.4f}\")\n",
    "print(f\"- F1-Score: {f1_balanced:.4f}\")"
   ]
  },
  {
   "cell_type": "code",
   "execution_count": 13,
   "id": "d4d4b68b",
   "metadata": {},
   "outputs": [
    {
     "name": "stderr",
     "output_type": "stream",
     "text": [
      "WARNING:absl:The `save_format` argument is deprecated in Keras 3. We recommend removing this argument as it can be inferred from the file path. Received: save_format=keras\n"
     ]
    },
    {
     "name": "stdout",
     "output_type": "stream",
     "text": [
      "✅ Modelo balanceado guardado en formato .keras:\n",
      "- mejor_modelo_balanceado.keras\n"
     ]
    }
   ],
   "source": [
    "# Guardar el modelo balanceado en formato .keras\n",
    "model_balanced.save('mejor_modelo_balanceado.keras', save_format='keras')\n",
    "\n",
    "print(\"✅ Modelo balanceado guardado en formato .keras:\")\n",
    "print(\"- mejor_modelo_balanceado.keras\")"
   ]
  },
  {
   "cell_type": "code",
   "execution_count": 14,
   "id": "3264fae3",
   "metadata": {},
   "outputs": [
    {
     "name": "stdout",
     "output_type": "stream",
     "text": [
      "✅ Modelo cargado exitosamente desde 'mejor_modelo_balanceado.keras'\n",
      "Arquitectura del modelo cargado:\n"
     ]
    },
    {
     "name": "stderr",
     "output_type": "stream",
     "text": [
      "c:\\Users\\ASUS\\AppData\\Local\\Programs\\Python\\Python311\\Lib\\site-packages\\keras\\src\\saving\\saving_lib.py:757: UserWarning: Skipping variable loading for optimizer 'rmsprop', because it has 12 variables whereas the saved optimizer has 22 variables. \n",
      "  saveable.load_own_variables(weights_store.get(inner_path))\n"
     ]
    },
    {
     "data": {
      "text/html": [
       "<pre style=\"white-space:pre;overflow-x:auto;line-height:normal;font-family:Menlo,'DejaVu Sans Mono',consolas,'Courier New',monospace\"><span style=\"font-weight: bold\">Model: \"sequential_6\"</span>\n",
       "</pre>\n"
      ],
      "text/plain": [
       "\u001b[1mModel: \"sequential_6\"\u001b[0m\n"
      ]
     },
     "metadata": {},
     "output_type": "display_data"
    },
    {
     "data": {
      "text/html": [
       "<pre style=\"white-space:pre;overflow-x:auto;line-height:normal;font-family:Menlo,'DejaVu Sans Mono',consolas,'Courier New',monospace\">┏━━━━━━━━━━━━━━━━━━━━━━━━━━━━━━━━━┳━━━━━━━━━━━━━━━━━━━━━━━━┳━━━━━━━━━━━━━━━┓\n",
       "┃<span style=\"font-weight: bold\"> Layer (type)                    </span>┃<span style=\"font-weight: bold\"> Output Shape           </span>┃<span style=\"font-weight: bold\">       Param # </span>┃\n",
       "┡━━━━━━━━━━━━━━━━━━━━━━━━━━━━━━━━━╇━━━━━━━━━━━━━━━━━━━━━━━━╇━━━━━━━━━━━━━━━┩\n",
       "│ dense_21 (<span style=\"color: #0087ff; text-decoration-color: #0087ff\">Dense</span>)                │ (<span style=\"color: #00d7ff; text-decoration-color: #00d7ff\">None</span>, <span style=\"color: #00af00; text-decoration-color: #00af00\">120</span>)            │           <span style=\"color: #00af00; text-decoration-color: #00af00\">840</span> │\n",
       "├─────────────────────────────────┼────────────────────────┼───────────────┤\n",
       "│ dropout_15 (<span style=\"color: #0087ff; text-decoration-color: #0087ff\">Dropout</span>)            │ (<span style=\"color: #00d7ff; text-decoration-color: #00d7ff\">None</span>, <span style=\"color: #00af00; text-decoration-color: #00af00\">120</span>)            │             <span style=\"color: #00af00; text-decoration-color: #00af00\">0</span> │\n",
       "├─────────────────────────────────┼────────────────────────┼───────────────┤\n",
       "│ dense_22 (<span style=\"color: #0087ff; text-decoration-color: #0087ff\">Dense</span>)                │ (<span style=\"color: #00d7ff; text-decoration-color: #00d7ff\">None</span>, <span style=\"color: #00af00; text-decoration-color: #00af00\">95</span>)             │        <span style=\"color: #00af00; text-decoration-color: #00af00\">11,495</span> │\n",
       "├─────────────────────────────────┼────────────────────────┼───────────────┤\n",
       "│ dropout_16 (<span style=\"color: #0087ff; text-decoration-color: #0087ff\">Dropout</span>)            │ (<span style=\"color: #00d7ff; text-decoration-color: #00d7ff\">None</span>, <span style=\"color: #00af00; text-decoration-color: #00af00\">95</span>)             │             <span style=\"color: #00af00; text-decoration-color: #00af00\">0</span> │\n",
       "├─────────────────────────────────┼────────────────────────┼───────────────┤\n",
       "│ dense_23 (<span style=\"color: #0087ff; text-decoration-color: #0087ff\">Dense</span>)                │ (<span style=\"color: #00d7ff; text-decoration-color: #00d7ff\">None</span>, <span style=\"color: #00af00; text-decoration-color: #00af00\">63</span>)             │         <span style=\"color: #00af00; text-decoration-color: #00af00\">6,048</span> │\n",
       "├─────────────────────────────────┼────────────────────────┼───────────────┤\n",
       "│ dropout_17 (<span style=\"color: #0087ff; text-decoration-color: #0087ff\">Dropout</span>)            │ (<span style=\"color: #00d7ff; text-decoration-color: #00d7ff\">None</span>, <span style=\"color: #00af00; text-decoration-color: #00af00\">63</span>)             │             <span style=\"color: #00af00; text-decoration-color: #00af00\">0</span> │\n",
       "├─────────────────────────────────┼────────────────────────┼───────────────┤\n",
       "│ dense_24 (<span style=\"color: #0087ff; text-decoration-color: #0087ff\">Dense</span>)                │ (<span style=\"color: #00d7ff; text-decoration-color: #00d7ff\">None</span>, <span style=\"color: #00af00; text-decoration-color: #00af00\">97</span>)             │         <span style=\"color: #00af00; text-decoration-color: #00af00\">6,208</span> │\n",
       "├─────────────────────────────────┼────────────────────────┼───────────────┤\n",
       "│ dropout_18 (<span style=\"color: #0087ff; text-decoration-color: #0087ff\">Dropout</span>)            │ (<span style=\"color: #00d7ff; text-decoration-color: #00d7ff\">None</span>, <span style=\"color: #00af00; text-decoration-color: #00af00\">97</span>)             │             <span style=\"color: #00af00; text-decoration-color: #00af00\">0</span> │\n",
       "├─────────────────────────────────┼────────────────────────┼───────────────┤\n",
       "│ dense_25 (<span style=\"color: #0087ff; text-decoration-color: #0087ff\">Dense</span>)                │ (<span style=\"color: #00d7ff; text-decoration-color: #00d7ff\">None</span>, <span style=\"color: #00af00; text-decoration-color: #00af00\">5</span>)              │           <span style=\"color: #00af00; text-decoration-color: #00af00\">490</span> │\n",
       "└─────────────────────────────────┴────────────────────────┴───────────────┘\n",
       "</pre>\n"
      ],
      "text/plain": [
       "┏━━━━━━━━━━━━━━━━━━━━━━━━━━━━━━━━━┳━━━━━━━━━━━━━━━━━━━━━━━━┳━━━━━━━━━━━━━━━┓\n",
       "┃\u001b[1m \u001b[0m\u001b[1mLayer (type)                   \u001b[0m\u001b[1m \u001b[0m┃\u001b[1m \u001b[0m\u001b[1mOutput Shape          \u001b[0m\u001b[1m \u001b[0m┃\u001b[1m \u001b[0m\u001b[1m      Param #\u001b[0m\u001b[1m \u001b[0m┃\n",
       "┡━━━━━━━━━━━━━━━━━━━━━━━━━━━━━━━━━╇━━━━━━━━━━━━━━━━━━━━━━━━╇━━━━━━━━━━━━━━━┩\n",
       "│ dense_21 (\u001b[38;5;33mDense\u001b[0m)                │ (\u001b[38;5;45mNone\u001b[0m, \u001b[38;5;34m120\u001b[0m)            │           \u001b[38;5;34m840\u001b[0m │\n",
       "├─────────────────────────────────┼────────────────────────┼───────────────┤\n",
       "│ dropout_15 (\u001b[38;5;33mDropout\u001b[0m)            │ (\u001b[38;5;45mNone\u001b[0m, \u001b[38;5;34m120\u001b[0m)            │             \u001b[38;5;34m0\u001b[0m │\n",
       "├─────────────────────────────────┼────────────────────────┼───────────────┤\n",
       "│ dense_22 (\u001b[38;5;33mDense\u001b[0m)                │ (\u001b[38;5;45mNone\u001b[0m, \u001b[38;5;34m95\u001b[0m)             │        \u001b[38;5;34m11,495\u001b[0m │\n",
       "├─────────────────────────────────┼────────────────────────┼───────────────┤\n",
       "│ dropout_16 (\u001b[38;5;33mDropout\u001b[0m)            │ (\u001b[38;5;45mNone\u001b[0m, \u001b[38;5;34m95\u001b[0m)             │             \u001b[38;5;34m0\u001b[0m │\n",
       "├─────────────────────────────────┼────────────────────────┼───────────────┤\n",
       "│ dense_23 (\u001b[38;5;33mDense\u001b[0m)                │ (\u001b[38;5;45mNone\u001b[0m, \u001b[38;5;34m63\u001b[0m)             │         \u001b[38;5;34m6,048\u001b[0m │\n",
       "├─────────────────────────────────┼────────────────────────┼───────────────┤\n",
       "│ dropout_17 (\u001b[38;5;33mDropout\u001b[0m)            │ (\u001b[38;5;45mNone\u001b[0m, \u001b[38;5;34m63\u001b[0m)             │             \u001b[38;5;34m0\u001b[0m │\n",
       "├─────────────────────────────────┼────────────────────────┼───────────────┤\n",
       "│ dense_24 (\u001b[38;5;33mDense\u001b[0m)                │ (\u001b[38;5;45mNone\u001b[0m, \u001b[38;5;34m97\u001b[0m)             │         \u001b[38;5;34m6,208\u001b[0m │\n",
       "├─────────────────────────────────┼────────────────────────┼───────────────┤\n",
       "│ dropout_18 (\u001b[38;5;33mDropout\u001b[0m)            │ (\u001b[38;5;45mNone\u001b[0m, \u001b[38;5;34m97\u001b[0m)             │             \u001b[38;5;34m0\u001b[0m │\n",
       "├─────────────────────────────────┼────────────────────────┼───────────────┤\n",
       "│ dense_25 (\u001b[38;5;33mDense\u001b[0m)                │ (\u001b[38;5;45mNone\u001b[0m, \u001b[38;5;34m5\u001b[0m)              │           \u001b[38;5;34m490\u001b[0m │\n",
       "└─────────────────────────────────┴────────────────────────┴───────────────┘\n"
      ]
     },
     "metadata": {},
     "output_type": "display_data"
    },
    {
     "data": {
      "text/html": [
       "<pre style=\"white-space:pre;overflow-x:auto;line-height:normal;font-family:Menlo,'DejaVu Sans Mono',consolas,'Courier New',monospace\"><span style=\"font-weight: bold\"> Total params: </span><span style=\"color: #00af00; text-decoration-color: #00af00\">50,164</span> (195.96 KB)\n",
       "</pre>\n"
      ],
      "text/plain": [
       "\u001b[1m Total params: \u001b[0m\u001b[38;5;34m50,164\u001b[0m (195.96 KB)\n"
      ]
     },
     "metadata": {},
     "output_type": "display_data"
    },
    {
     "data": {
      "text/html": [
       "<pre style=\"white-space:pre;overflow-x:auto;line-height:normal;font-family:Menlo,'DejaVu Sans Mono',consolas,'Courier New',monospace\"><span style=\"font-weight: bold\"> Trainable params: </span><span style=\"color: #00af00; text-decoration-color: #00af00\">25,081</span> (97.97 KB)\n",
       "</pre>\n"
      ],
      "text/plain": [
       "\u001b[1m Trainable params: \u001b[0m\u001b[38;5;34m25,081\u001b[0m (97.97 KB)\n"
      ]
     },
     "metadata": {},
     "output_type": "display_data"
    },
    {
     "data": {
      "text/html": [
       "<pre style=\"white-space:pre;overflow-x:auto;line-height:normal;font-family:Menlo,'DejaVu Sans Mono',consolas,'Courier New',monospace\"><span style=\"font-weight: bold\"> Non-trainable params: </span><span style=\"color: #00af00; text-decoration-color: #00af00\">0</span> (0.00 B)\n",
       "</pre>\n"
      ],
      "text/plain": [
       "\u001b[1m Non-trainable params: \u001b[0m\u001b[38;5;34m0\u001b[0m (0.00 B)\n"
      ]
     },
     "metadata": {},
     "output_type": "display_data"
    },
    {
     "data": {
      "text/html": [
       "<pre style=\"white-space:pre;overflow-x:auto;line-height:normal;font-family:Menlo,'DejaVu Sans Mono',consolas,'Courier New',monospace\"><span style=\"font-weight: bold\"> Optimizer params: </span><span style=\"color: #00af00; text-decoration-color: #00af00\">25,083</span> (97.98 KB)\n",
       "</pre>\n"
      ],
      "text/plain": [
       "\u001b[1m Optimizer params: \u001b[0m\u001b[38;5;34m25,083\u001b[0m (97.98 KB)\n"
      ]
     },
     "metadata": {},
     "output_type": "display_data"
    },
    {
     "name": "stdout",
     "output_type": "stream",
     "text": [
      "\u001b[1m1/1\u001b[0m \u001b[32m━━━━━━━━━━━━━━━━━━━━\u001b[0m\u001b[37m\u001b[0m \u001b[1m0s\u001b[0m 184ms/step\n",
      "\n",
      "🔍 Prueba de predicción:\n",
      "Forma de entrada: (5, 6)\n",
      "Predicciones (probabilidades):\n",
      "  Muestra 1: [0.17929012 0.23034544 0.23266974 0.12774901 0.2299457 ]\n",
      "  Muestra 2: [0.17864132 0.30602095 0.14800245 0.1654043  0.20193106]\n",
      "  Muestra 3: [0.2359398  0.22273088 0.23664705 0.14540844 0.15927386]\n",
      "  Muestra 4: [0.16232005 0.303301   0.13270785 0.18367095 0.21800016]\n",
      "  Muestra 5: [0.16473857 0.30842677 0.13349748 0.18266678 0.21067038]\n",
      "Clases predichas: [2 1 2 1 1]\n",
      "Etiquetas de clases: ['punt_lectura_critica', 'punt_ingles', 'punt_lectura_critica', 'punt_ingles', 'punt_ingles']\n",
      "\u001b[1m1/1\u001b[0m \u001b[32m━━━━━━━━━━━━━━━━━━━━\u001b[0m\u001b[37m\u001b[0m \u001b[1m0s\u001b[0m 32ms/step\n",
      "\n",
      "🔄 Comparación con modelo en memoria:\n",
      "¿Predicciones idénticas?: True\n",
      "¿Clases idénticas?: True\n"
     ]
    }
   ],
   "source": [
    "from tensorflow.keras.models import load_model\n",
    "\n",
    "# Cargar y probar el modelo guardado en formato .keras\n",
    "\n",
    "# Cargar el modelo\n",
    "modelo_cargado = load_model('mejor_modelo_balanceado.keras')\n",
    "\n",
    "print(\"✅ Modelo cargado exitosamente desde 'mejor_modelo_balanceado.keras'\")\n",
    "print(f\"Arquitectura del modelo cargado:\")\n",
    "modelo_cargado.summary()\n",
    "\n",
    "# Hacer una predicción de prueba con una muestra del conjunto de test\n",
    "muestra_test = X_test[:5]  # Tomar las primeras 5 muestras\n",
    "prediccion_prueba = modelo_cargado.predict(muestra_test)\n",
    "prediccion_clases = np.argmax(prediccion_prueba, axis=1)\n",
    "\n",
    "print(f\"\\n🔍 Prueba de predicción:\")\n",
    "print(f\"Forma de entrada: {muestra_test.shape}\")\n",
    "print(f\"Predicciones (probabilidades):\")\n",
    "for i, pred in enumerate(prediccion_prueba):\n",
    "    print(f\"  Muestra {i+1}: {pred}\")\n",
    "print(f\"Clases predichas: {prediccion_clases}\")\n",
    "print(f\"Etiquetas de clases: {[class_labels[i] for i in prediccion_clases]}\")\n",
    "\n",
    "# Verificar que las predicciones son iguales al modelo en memoria\n",
    "prediccion_original = model_balanced.predict(muestra_test)\n",
    "prediccion_original_clases = np.argmax(prediccion_original, axis=1)\n",
    "\n",
    "print(f\"\\n🔄 Comparación con modelo en memoria:\")\n",
    "print(f\"¿Predicciones idénticas?: {np.allclose(prediccion_prueba, prediccion_original)}\")\n",
    "print(f\"¿Clases idénticas?: {np.array_equal(prediccion_clases, prediccion_original_clases)}\")"
   ]
  },
  {
   "cell_type": "code",
   "execution_count": null,
   "id": "1d0d96b9",
   "metadata": {},
   "outputs": [],
   "source": []
  }
 ],
 "metadata": {
  "kernelspec": {
   "display_name": "Python 3",
   "language": "python",
   "name": "python3"
  },
  "language_info": {
   "codemirror_mode": {
    "name": "ipython",
    "version": 3
   },
   "file_extension": ".py",
   "mimetype": "text/x-python",
   "name": "python",
   "nbconvert_exporter": "python",
   "pygments_lexer": "ipython3",
   "version": "3.11.9"
  }
 },
 "nbformat": 4,
 "nbformat_minor": 5
}
