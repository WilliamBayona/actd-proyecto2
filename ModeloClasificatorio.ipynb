{
 "cells": [
  {
   "cell_type": "markdown",
   "id": "335b375f",
   "metadata": {},
   "source": [
    "## Modelo (Optimizando Accuracy)"
   ]
  },
  {
   "cell_type": "markdown",
   "id": "0be87aef",
   "metadata": {},
   "source": [
    "Importar Librerias"
   ]
  },
  {
   "cell_type": "code",
   "execution_count": 1,
   "id": "5074a198",
   "metadata": {},
   "outputs": [
    {
     "name": "stderr",
     "output_type": "stream",
     "text": [
      "c:\\Users\\ASUS\\AppData\\Local\\Programs\\Python\\Python311\\Lib\\site-packages\\tqdm\\auto.py:21: TqdmWarning: IProgress not found. Please update jupyter and ipywidgets. See https://ipywidgets.readthedocs.io/en/stable/user_install.html\n",
      "  from .autonotebook import tqdm as notebook_tqdm\n"
     ]
    }
   ],
   "source": [
    "import pandas as pd\n",
    "import numpy as np\n",
    "import optuna\n",
    "import mlflow\n",
    "import mlflow.keras\n",
    "from sklearn.model_selection import train_test_split\n",
    "from sklearn.preprocessing import LabelEncoder, StandardScaler\n",
    "from tensorflow.keras.models import Sequential\n",
    "from tensorflow.keras.layers import Dense, Dropout\n",
    "from tensorflow.keras.optimizers import Adam\n",
    "\n"
   ]
  },
  {
   "cell_type": "markdown",
   "id": "8b2efe71",
   "metadata": {},
   "source": [
    "Generar Variable Objetivo"
   ]
  },
  {
   "cell_type": "code",
   "execution_count": 2,
   "id": "28ff572f",
   "metadata": {},
   "outputs": [],
   "source": [
    "# Carga del CSV\n",
    "df = pd.read_csv(\"data2016modelo.csv\")\n",
    "df.columns = df.columns.str.strip().str.lower().str.replace(\" \", \"_\")\n",
    "\n",
    "# Variable objetivo\n",
    "materias = [\n",
    "    'punt_matematicas', 'punt_lectura_critica',\n",
    "    'punt_ingles', 'punt_c_naturales', 'punt_sociales_ciudadanas'\n",
    "]\n",
    "\n",
    "# Features posibles\n",
    "features_all = [\n",
    "    'estu_genero', 'fami_educacionmadre', 'fami_educacionpadre',\n",
    "    'fami_estratovivienda', 'fami_personashogar', 'fami_cuartoshogar',\n",
    "    'fami_tieneautomovil', 'fami_tienecomputador',\n",
    "    'fami_tieneinternet', 'fami_tienelavadora'\n",
    "]"
   ]
  },
  {
   "cell_type": "code",
   "execution_count": 3,
   "id": "0fa5f7c3",
   "metadata": {},
   "outputs": [],
   "source": [
    "def objectiveAcc(trial):\n",
    "    # ----------------------------------\n",
    "    # 🔹 Selección de features (como antes)\n",
    "    selected_features = [f for f in features_all if trial.suggest_categorical(f\"usar_\" + f, [True, False])]\n",
    "    if not selected_features:\n",
    "        return 0\n",
    "\n",
    "    X = df[selected_features].copy()\n",
    "    y = df['materia_menor_puntaje']\n",
    "\n",
    "    for col in X.select_dtypes(include='object').columns:\n",
    "        X[col] = LabelEncoder().fit_transform(X[col].astype(str))\n",
    "\n",
    "    scaler = StandardScaler()\n",
    "    X_scaled = scaler.fit_transform(X)\n",
    "    y_encoded = LabelEncoder().fit_transform(y)\n",
    "\n",
    "    X_train, X_test, y_train, y_test = train_test_split(X_scaled, y_encoded, test_size=0.2, random_state=42, stratify=y_encoded)\n",
    "\n",
    "    # ----------------------------------\n",
    "    # 🔹 Hiperparámetros de red neuronal\n",
    "    n_layers = trial.suggest_int(\"n_layers\", 1, 4)\n",
    "    activation = trial.suggest_categorical(\"activation\", [\"relu\", \"tanh\", \"elu\"])\n",
    "    dropout_rate = trial.suggest_float(\"dropout\", 0.2, 0.5)\n",
    "    learning_rate = trial.suggest_float(\"lr\", 1e-4, 1e-2, log=True)\n",
    "    batch_size = trial.suggest_categorical(\"batch_size\", [16, 32, 64])\n",
    "\n",
    "    # Cantidad de neuronas por capa\n",
    "    hidden_units = [trial.suggest_int(f\"n_units_{i}\", 32, 128) for i in range(n_layers)]\n",
    "\n",
    "    # ----------------------------------\n",
    "    # 🔹 Modelo dinámico\n",
    "    model = Sequential()\n",
    "    model.add(Dense(hidden_units[0], activation=activation, input_shape=(X_train.shape[1],)))\n",
    "    model.add(Dropout(dropout_rate))\n",
    "\n",
    "    for i in range(1, n_layers):\n",
    "        model.add(Dense(hidden_units[i], activation=activation))\n",
    "        model.add(Dropout(dropout_rate))\n",
    "\n",
    "    model.add(Dense(5, activation='softmax'))\n",
    "\n",
    "    # ----------------------------------\n",
    "    # 🔹 Compilación y entrenamiento\n",
    "    model.compile(optimizer=Adam(learning_rate=learning_rate),\n",
    "                  loss='sparse_categorical_crossentropy',\n",
    "                  metrics=['accuracy'])\n",
    "\n",
    "    with mlflow.start_run(nested=True):\n",
    "        mlflow.log_params({\n",
    "            \"n_layers\": n_layers,\n",
    "            \"activation\": activation,\n",
    "            \"dropout\": dropout_rate,\n",
    "            \"learning_rate\": learning_rate,\n",
    "            \"batch_size\": batch_size,\n",
    "            \"features\": selected_features,\n",
    "            **{f\"n_units_{i}\": hidden_units[i] for i in range(n_layers)}\n",
    "        })\n",
    "\n",
    "        model.fit(X_train, y_train, validation_split=0.2, epochs=20, batch_size=batch_size, verbose=0)\n",
    "        loss, acc = model.evaluate(X_test, y_test, verbose=0)\n",
    "\n",
    "        mlflow.log_metric(\"accuracy\", acc)\n",
    "        mlflow.keras.log_model(model, \"modelo_keras\")\n",
    "\n",
    "    return acc\n",
    "# ----------------------------------"
   ]
  },
  {
   "cell_type": "code",
   "execution_count": 4,
   "id": "b1b50920",
   "metadata": {},
   "outputs": [
    {
     "name": "stderr",
     "output_type": "stream",
     "text": [
      "[I 2025-05-25 12:33:06,089] A new study created in memory with name: no-name-de1bd4a7-1979-407b-a046-d82961155489\n",
      "c:\\Users\\ASUS\\AppData\\Local\\Programs\\Python\\Python311\\Lib\\site-packages\\keras\\src\\layers\\core\\dense.py:87: UserWarning: Do not pass an `input_shape`/`input_dim` argument to a layer. When using Sequential models, prefer using an `Input(shape)` object as the first layer in the model instead.\n",
      "  super().__init__(activity_regularizer=activity_regularizer, **kwargs)\n",
      "2025/05/25 12:37:31 WARNING mlflow.keras.save: You are saving a Keras model without specifying model signature.\n",
      "2025/05/25 12:37:46 WARNING mlflow.models.model: Model logged without a signature and input example. Please set `input_example` parameter when logging the model to auto infer the model signature.\n",
      "[I 2025-05-25 12:37:46,212] Trial 0 finished with value: 0.2840137481689453 and parameters: {'usar_estu_genero': False, 'usar_fami_educacionmadre': True, 'usar_fami_educacionpadre': True, 'usar_fami_estratovivienda': True, 'usar_fami_personashogar': True, 'usar_fami_cuartoshogar': False, 'usar_fami_tieneautomovil': False, 'usar_fami_tienecomputador': True, 'usar_fami_tieneinternet': False, 'usar_fami_tienelavadora': True, 'n_layers': 4, 'activation': 'elu', 'dropout': 0.21214121525951873, 'lr': 0.009391241955984534, 'batch_size': 64, 'n_units_0': 38, 'n_units_1': 54, 'n_units_2': 51, 'n_units_3': 127}. Best is trial 0 with value: 0.2840137481689453.\n",
      "c:\\Users\\ASUS\\AppData\\Local\\Programs\\Python\\Python311\\Lib\\site-packages\\keras\\src\\layers\\core\\dense.py:87: UserWarning: Do not pass an `input_shape`/`input_dim` argument to a layer. When using Sequential models, prefer using an `Input(shape)` object as the first layer in the model instead.\n",
      "  super().__init__(activity_regularizer=activity_regularizer, **kwargs)\n",
      "2025/05/25 12:41:04 WARNING mlflow.keras.save: You are saving a Keras model without specifying model signature.\n",
      "2025/05/25 12:41:15 WARNING mlflow.models.model: Model logged without a signature and input example. Please set `input_example` parameter when logging the model to auto infer the model signature.\n",
      "[I 2025-05-25 12:41:15,478] Trial 1 finished with value: 0.29271405935287476 and parameters: {'usar_estu_genero': False, 'usar_fami_educacionmadre': False, 'usar_fami_educacionpadre': True, 'usar_fami_estratovivienda': True, 'usar_fami_personashogar': True, 'usar_fami_cuartoshogar': False, 'usar_fami_tieneautomovil': False, 'usar_fami_tienecomputador': False, 'usar_fami_tieneinternet': True, 'usar_fami_tienelavadora': False, 'n_layers': 1, 'activation': 'elu', 'dropout': 0.30436042283423964, 'lr': 0.0007079691931728892, 'batch_size': 64, 'n_units_0': 39}. Best is trial 1 with value: 0.29271405935287476.\n",
      "c:\\Users\\ASUS\\AppData\\Local\\Programs\\Python\\Python311\\Lib\\site-packages\\keras\\src\\layers\\core\\dense.py:87: UserWarning: Do not pass an `input_shape`/`input_dim` argument to a layer. When using Sequential models, prefer using an `Input(shape)` object as the first layer in the model instead.\n",
      "  super().__init__(activity_regularizer=activity_regularizer, **kwargs)\n",
      "2025/05/25 12:46:10 WARNING mlflow.keras.save: You are saving a Keras model without specifying model signature.\n",
      "2025/05/25 12:46:22 WARNING mlflow.models.model: Model logged without a signature and input example. Please set `input_example` parameter when logging the model to auto infer the model signature.\n",
      "[I 2025-05-25 12:46:22,149] Trial 2 finished with value: 0.3147905170917511 and parameters: {'usar_estu_genero': True, 'usar_fami_educacionmadre': True, 'usar_fami_educacionpadre': False, 'usar_fami_estratovivienda': True, 'usar_fami_personashogar': False, 'usar_fami_cuartoshogar': True, 'usar_fami_tieneautomovil': True, 'usar_fami_tienecomputador': False, 'usar_fami_tieneinternet': True, 'usar_fami_tienelavadora': False, 'n_layers': 4, 'activation': 'tanh', 'dropout': 0.23937376534248514, 'lr': 0.0016760748339264, 'batch_size': 64, 'n_units_0': 120, 'n_units_1': 95, 'n_units_2': 63, 'n_units_3': 97}. Best is trial 2 with value: 0.3147905170917511.\n",
      "c:\\Users\\ASUS\\AppData\\Local\\Programs\\Python\\Python311\\Lib\\site-packages\\keras\\src\\layers\\core\\dense.py:87: UserWarning: Do not pass an `input_shape`/`input_dim` argument to a layer. When using Sequential models, prefer using an `Input(shape)` object as the first layer in the model instead.\n",
      "  super().__init__(activity_regularizer=activity_regularizer, **kwargs)\n",
      "2025/05/25 12:57:00 WARNING mlflow.keras.save: You are saving a Keras model without specifying model signature.\n",
      "2025/05/25 12:57:08 WARNING mlflow.models.model: Model logged without a signature and input example. Please set `input_example` parameter when logging the model to auto infer the model signature.\n",
      "[I 2025-05-25 12:57:08,581] Trial 3 finished with value: 0.3135501742362976 and parameters: {'usar_estu_genero': True, 'usar_fami_educacionmadre': False, 'usar_fami_educacionpadre': True, 'usar_fami_estratovivienda': True, 'usar_fami_personashogar': True, 'usar_fami_cuartoshogar': True, 'usar_fami_tieneautomovil': False, 'usar_fami_tienecomputador': False, 'usar_fami_tieneinternet': True, 'usar_fami_tienelavadora': False, 'n_layers': 1, 'activation': 'elu', 'dropout': 0.4957828843786846, 'lr': 0.00019755053539360597, 'batch_size': 16, 'n_units_0': 89}. Best is trial 2 with value: 0.3147905170917511.\n",
      "c:\\Users\\ASUS\\AppData\\Local\\Programs\\Python\\Python311\\Lib\\site-packages\\keras\\src\\layers\\core\\dense.py:87: UserWarning: Do not pass an `input_shape`/`input_dim` argument to a layer. When using Sequential models, prefer using an `Input(shape)` object as the first layer in the model instead.\n",
      "  super().__init__(activity_regularizer=activity_regularizer, **kwargs)\n",
      "2025/05/25 12:59:29 WARNING mlflow.keras.save: You are saving a Keras model without specifying model signature.\n",
      "2025/05/25 12:59:38 WARNING mlflow.models.model: Model logged without a signature and input example. Please set `input_example` parameter when logging the model to auto infer the model signature.\n",
      "[I 2025-05-25 12:59:38,059] Trial 4 finished with value: 0.2866283059120178 and parameters: {'usar_estu_genero': False, 'usar_fami_educacionmadre': False, 'usar_fami_educacionpadre': True, 'usar_fami_estratovivienda': False, 'usar_fami_personashogar': False, 'usar_fami_cuartoshogar': True, 'usar_fami_tieneautomovil': False, 'usar_fami_tienecomputador': False, 'usar_fami_tieneinternet': True, 'usar_fami_tienelavadora': True, 'n_layers': 1, 'activation': 'relu', 'dropout': 0.20873080908252142, 'lr': 0.0001379506698888531, 'batch_size': 64, 'n_units_0': 53}. Best is trial 2 with value: 0.3147905170917511.\n"
     ]
    },
    {
     "name": "stdout",
     "output_type": "stream",
     "text": [
      "✅ Mejores hiperparámetros guardados en 'mejores_params_modelo2.json'\n"
     ]
    }
   ],
   "source": [
    "import optuna\n",
    "import mlflow\n",
    "import json\n",
    "\n",
    "# Configurar experimento en MLflow\n",
    "mlflow.set_experiment(\"icfes_red_neuronal_optuna_Acc_Final\")\n",
    "\n",
    "# Crear y ejecutar el estudio\n",
    "studyAcc = optuna.create_study(direction=\"maximize\")\n",
    "studyAcc.optimize(objectiveAcc, n_trials=5)\n",
    "\n",
    "# Guardar los mejores hiperparámetros (excluyendo los booleanos \"usar_<feature>\")\n",
    "mejores_params = {k: v for k, v in studyAcc.best_params.items() if not k.startswith(\"usar_\")}\n",
    "\n",
    "with open(\"mejores_params_modeloAcc.json\", \"w\") as f:\n",
    "    json.dump(mejores_params, f, indent=4)\n",
    "\n",
    "print(\"✅ Mejores hiperparámetros guardados en 'mejores_params_modelo2.json'\")\n"
   ]
  },
  {
   "cell_type": "code",
   "execution_count": 5,
   "id": "88f85096",
   "metadata": {},
   "outputs": [
    {
     "name": "stdout",
     "output_type": "stream",
     "text": [
      "Mejores parámetros encontrados:\n",
      "{\n",
      "  \"usar_estu_genero\": true,\n",
      "  \"usar_fami_educacionmadre\": true,\n",
      "  \"usar_fami_educacionpadre\": false,\n",
      "  \"usar_fami_estratovivienda\": true,\n",
      "  \"usar_fami_personashogar\": false,\n",
      "  \"usar_fami_cuartoshogar\": true,\n",
      "  \"usar_fami_tieneautomovil\": true,\n",
      "  \"usar_fami_tienecomputador\": false,\n",
      "  \"usar_fami_tieneinternet\": true,\n",
      "  \"usar_fami_tienelavadora\": false,\n",
      "  \"n_layers\": 4,\n",
      "  \"activation\": \"tanh\",\n",
      "  \"dropout\": 0.23937376534248514,\n",
      "  \"lr\": 0.0016760748339264,\n",
      "  \"batch_size\": 64,\n",
      "  \"n_units_0\": 120,\n",
      "  \"n_units_1\": 95,\n",
      "  \"n_units_2\": 63,\n",
      "  \"n_units_3\": 97\n",
      "}\n",
      "\n",
      "Features seleccionadas: ['estu_genero', 'fami_educacionmadre', 'fami_estratovivienda', 'fami_cuartoshogar', 'fami_tieneautomovil', 'fami_tieneinternet']\n",
      "Epoch 1/20\n"
     ]
    },
    {
     "name": "stderr",
     "output_type": "stream",
     "text": [
      "c:\\Users\\ASUS\\AppData\\Local\\Programs\\Python\\Python311\\Lib\\site-packages\\keras\\src\\layers\\core\\dense.py:87: UserWarning: Do not pass an `input_shape`/`input_dim` argument to a layer. When using Sequential models, prefer using an `Input(shape)` object as the first layer in the model instead.\n",
      "  super().__init__(activity_regularizer=activity_regularizer, **kwargs)\n"
     ]
    },
    {
     "name": "stdout",
     "output_type": "stream",
     "text": [
      "\u001b[1m5604/5604\u001b[0m \u001b[32m━━━━━━━━━━━━━━━━━━━━\u001b[0m\u001b[37m\u001b[0m \u001b[1m11s\u001b[0m 2ms/step - accuracy: 0.2963 - loss: 1.5457 - val_accuracy: 0.3111 - val_loss: 1.5268\n",
      "Epoch 2/20\n",
      "\u001b[1m5604/5604\u001b[0m \u001b[32m━━━━━━━━━━━━━━━━━━━━\u001b[0m\u001b[37m\u001b[0m \u001b[1m10s\u001b[0m 2ms/step - accuracy: 0.3042 - loss: 1.5333 - val_accuracy: 0.2998 - val_loss: 1.5322\n",
      "Epoch 3/20\n",
      "\u001b[1m5604/5604\u001b[0m \u001b[32m━━━━━━━━━━━━━━━━━━━━\u001b[0m\u001b[37m\u001b[0m \u001b[1m11s\u001b[0m 2ms/step - accuracy: 0.3069 - loss: 1.5317 - val_accuracy: 0.3119 - val_loss: 1.5285\n",
      "Epoch 4/20\n",
      "\u001b[1m5604/5604\u001b[0m \u001b[32m━━━━━━━━━━━━━━━━━━━━\u001b[0m\u001b[37m\u001b[0m \u001b[1m10s\u001b[0m 2ms/step - accuracy: 0.3042 - loss: 1.5324 - val_accuracy: 0.3068 - val_loss: 1.5280\n",
      "Epoch 5/20\n",
      "\u001b[1m5604/5604\u001b[0m \u001b[32m━━━━━━━━━━━━━━━━━━━━\u001b[0m\u001b[37m\u001b[0m \u001b[1m10s\u001b[0m 2ms/step - accuracy: 0.3037 - loss: 1.5332 - val_accuracy: 0.3128 - val_loss: 1.5249\n",
      "Epoch 6/20\n",
      "\u001b[1m5604/5604\u001b[0m \u001b[32m━━━━━━━━━━━━━━━━━━━━\u001b[0m\u001b[37m\u001b[0m \u001b[1m10s\u001b[0m 2ms/step - accuracy: 0.3058 - loss: 1.5327 - val_accuracy: 0.3118 - val_loss: 1.5265\n",
      "Epoch 7/20\n",
      "\u001b[1m5604/5604\u001b[0m \u001b[32m━━━━━━━━━━━━━━━━━━━━\u001b[0m\u001b[37m\u001b[0m \u001b[1m10s\u001b[0m 2ms/step - accuracy: 0.3049 - loss: 1.5313 - val_accuracy: 0.3132 - val_loss: 1.5264\n",
      "Epoch 8/20\n",
      "\u001b[1m5604/5604\u001b[0m \u001b[32m━━━━━━━━━━━━━━━━━━━━\u001b[0m\u001b[37m\u001b[0m \u001b[1m10s\u001b[0m 2ms/step - accuracy: 0.3041 - loss: 1.5328 - val_accuracy: 0.3125 - val_loss: 1.5340\n",
      "Epoch 9/20\n",
      "\u001b[1m5604/5604\u001b[0m \u001b[32m━━━━━━━━━━━━━━━━━━━━\u001b[0m\u001b[37m\u001b[0m \u001b[1m10s\u001b[0m 2ms/step - accuracy: 0.3036 - loss: 1.5329 - val_accuracy: 0.3024 - val_loss: 1.5263\n",
      "Epoch 10/20\n",
      "\u001b[1m5604/5604\u001b[0m \u001b[32m━━━━━━━━━━━━━━━━━━━━\u001b[0m\u001b[37m\u001b[0m \u001b[1m11s\u001b[0m 2ms/step - accuracy: 0.3038 - loss: 1.5333 - val_accuracy: 0.3136 - val_loss: 1.5254\n",
      "Epoch 11/20\n",
      "\u001b[1m5604/5604\u001b[0m \u001b[32m━━━━━━━━━━━━━━━━━━━━\u001b[0m\u001b[37m\u001b[0m \u001b[1m14s\u001b[0m 2ms/step - accuracy: 0.3044 - loss: 1.5334 - val_accuracy: 0.3130 - val_loss: 1.5280\n",
      "Epoch 12/20\n",
      "\u001b[1m5604/5604\u001b[0m \u001b[32m━━━━━━━━━━━━━━━━━━━━\u001b[0m\u001b[37m\u001b[0m \u001b[1m12s\u001b[0m 2ms/step - accuracy: 0.3031 - loss: 1.5346 - val_accuracy: 0.3097 - val_loss: 1.5265\n",
      "Epoch 13/20\n",
      "\u001b[1m5604/5604\u001b[0m \u001b[32m━━━━━━━━━━━━━━━━━━━━\u001b[0m\u001b[37m\u001b[0m \u001b[1m15s\u001b[0m 3ms/step - accuracy: 0.3028 - loss: 1.5334 - val_accuracy: 0.3076 - val_loss: 1.5319\n",
      "Epoch 14/20\n",
      "\u001b[1m5604/5604\u001b[0m \u001b[32m━━━━━━━━━━━━━━━━━━━━\u001b[0m\u001b[37m\u001b[0m \u001b[1m12s\u001b[0m 2ms/step - accuracy: 0.3020 - loss: 1.5338 - val_accuracy: 0.3125 - val_loss: 1.5261\n",
      "Epoch 15/20\n",
      "\u001b[1m5604/5604\u001b[0m \u001b[32m━━━━━━━━━━━━━━━━━━━━\u001b[0m\u001b[37m\u001b[0m \u001b[1m12s\u001b[0m 2ms/step - accuracy: 0.3019 - loss: 1.5348 - val_accuracy: 0.3095 - val_loss: 1.5291\n",
      "Epoch 16/20\n",
      "\u001b[1m5604/5604\u001b[0m \u001b[32m━━━━━━━━━━━━━━━━━━━━\u001b[0m\u001b[37m\u001b[0m \u001b[1m13s\u001b[0m 2ms/step - accuracy: 0.3030 - loss: 1.5345 - val_accuracy: 0.3018 - val_loss: 1.5299\n",
      "Epoch 17/20\n",
      "\u001b[1m5604/5604\u001b[0m \u001b[32m━━━━━━━━━━━━━━━━━━━━\u001b[0m\u001b[37m\u001b[0m \u001b[1m14s\u001b[0m 3ms/step - accuracy: 0.3017 - loss: 1.5353 - val_accuracy: 0.3034 - val_loss: 1.5314\n",
      "Epoch 18/20\n",
      "\u001b[1m5604/5604\u001b[0m \u001b[32m━━━━━━━━━━━━━━━━━━━━\u001b[0m\u001b[37m\u001b[0m \u001b[1m13s\u001b[0m 2ms/step - accuracy: 0.3022 - loss: 1.5357 - val_accuracy: 0.3107 - val_loss: 1.5314\n",
      "Epoch 19/20\n",
      "\u001b[1m5604/5604\u001b[0m \u001b[32m━━━━━━━━━━━━━━━━━━━━\u001b[0m\u001b[37m\u001b[0m \u001b[1m9s\u001b[0m 2ms/step - accuracy: 0.3028 - loss: 1.5350 - val_accuracy: 0.2952 - val_loss: 1.5296\n",
      "Epoch 20/20\n",
      "\u001b[1m5604/5604\u001b[0m \u001b[32m━━━━━━━━━━━━━━━━━━━━\u001b[0m\u001b[37m\u001b[0m \u001b[1m9s\u001b[0m 2ms/step - accuracy: 0.3040 - loss: 1.5349 - val_accuracy: 0.2995 - val_loss: 1.5343\n",
      "\u001b[1m3503/3503\u001b[0m \u001b[32m━━━━━━━━━━━━━━━━━━━━\u001b[0m\u001b[37m\u001b[0m \u001b[1m2s\u001b[0m 621us/step\n",
      "\n",
      "🎯 RESULTADOS DEL MEJOR MODELO:\n",
      "Accuracy: 0.2991\n",
      "F1-Score: 0.2213\n",
      "Best trial value: 0.3148\n",
      "\n",
      "Reporte de clasificación:\n",
      "              precision    recall  f1-score   support\n",
      "\n",
      "           0       0.00      0.00      0.00     11172\n",
      "           1       0.27      0.06      0.10     27393\n",
      "           2       0.30      0.20      0.24     17093\n",
      "           3       0.31      0.80      0.45     32037\n",
      "           4       0.23      0.11      0.15     24370\n",
      "\n",
      "    accuracy                           0.30    112065\n",
      "   macro avg       0.22      0.24      0.19    112065\n",
      "weighted avg       0.25      0.30      0.22    112065\n",
      "\n"
     ]
    },
    {
     "name": "stderr",
     "output_type": "stream",
     "text": [
      "c:\\Users\\ASUS\\AppData\\Local\\Programs\\Python\\Python311\\Lib\\site-packages\\sklearn\\metrics\\_classification.py:1565: UndefinedMetricWarning: Precision is ill-defined and being set to 0.0 in labels with no predicted samples. Use `zero_division` parameter to control this behavior.\n",
      "  _warn_prf(average, modifier, f\"{metric.capitalize()} is\", len(result))\n",
      "c:\\Users\\ASUS\\AppData\\Local\\Programs\\Python\\Python311\\Lib\\site-packages\\sklearn\\metrics\\_classification.py:1565: UndefinedMetricWarning: Precision is ill-defined and being set to 0.0 in labels with no predicted samples. Use `zero_division` parameter to control this behavior.\n",
      "  _warn_prf(average, modifier, f\"{metric.capitalize()} is\", len(result))\n",
      "c:\\Users\\ASUS\\AppData\\Local\\Programs\\Python\\Python311\\Lib\\site-packages\\sklearn\\metrics\\_classification.py:1565: UndefinedMetricWarning: Precision is ill-defined and being set to 0.0 in labels with no predicted samples. Use `zero_division` parameter to control this behavior.\n",
      "  _warn_prf(average, modifier, f\"{metric.capitalize()} is\", len(result))\n"
     ]
    }
   ],
   "source": [
    "from sklearn.metrics import classification_report, f1_score\n",
    "\n",
    "# Obtener los mejores parámetros del estudio\n",
    "best_params = studyAcc.best_params\n",
    "print(\"Mejores parámetros encontrados:\")\n",
    "print(json.dumps(best_params, indent=2))\n",
    "\n",
    "# Recrear el modelo con los mejores parámetros\n",
    "selected_features = [f for f in features_all if best_params.get(f\"usar_{f}\", False)]\n",
    "print(f\"\\nFeatures seleccionadas: {selected_features}\")\n",
    "\n",
    "# Preparar datos con las mejores features\n",
    "X = df[selected_features].copy()\n",
    "y = df['materia_menor_puntaje']\n",
    "\n",
    "# Encoding\n",
    "for col in X.select_dtypes(include='object').columns:\n",
    "    X[col] = LabelEncoder().fit_transform(X[col].astype(str))\n",
    "\n",
    "scaler = StandardScaler()\n",
    "X_scaled = scaler.fit_transform(X)\n",
    "y_encoded = LabelEncoder().fit_transform(y)\n",
    "\n",
    "X_train, X_test, y_train, y_test = train_test_split(X_scaled, y_encoded, test_size=0.2, random_state=42, stratify=y_encoded)\n",
    "\n",
    "# Crear el mejor modelo\n",
    "model = Sequential()\n",
    "model.add(Dense(best_params['n_units_0'], activation=best_params['activation'], input_shape=(X_train.shape[1],)))\n",
    "model.add(Dropout(best_params['dropout']))\n",
    "\n",
    "for i in range(1, best_params['n_layers']):\n",
    "    model.add(Dense(best_params[f'n_units_{i}'], activation=best_params['activation']))\n",
    "    model.add(Dropout(best_params['dropout']))\n",
    "\n",
    "model.add(Dense(5, activation='softmax'))\n",
    "\n",
    "# Compilar y entrenar\n",
    "model.compile(optimizer=Adam(learning_rate=best_params['lr']),\n",
    "              loss='sparse_categorical_crossentropy',\n",
    "              metrics=['accuracy'])\n",
    "\n",
    "model.fit(X_train, y_train, validation_split=0.2, epochs=20, batch_size=best_params['batch_size'], verbose=1)\n",
    "\n",
    "# Evaluar\n",
    "y_pred = model.predict(X_test)\n",
    "y_pred_classes = np.argmax(y_pred, axis=1)\n",
    "\n",
    "accuracy = model.evaluate(X_test, y_test, verbose=0)[1]\n",
    "f1 = f1_score(y_test, y_pred_classes, average='weighted')\n",
    "\n",
    "print(f\"\\n🎯 RESULTADOS DEL MEJOR MODELO:\")\n",
    "print(f\"Accuracy: {accuracy:.4f}\")\n",
    "print(f\"F1-Score: {f1:.4f}\")\n",
    "print(f\"Best trial value: {studyAcc.best_value:.4f}\")\n",
    "\n",
    "print(\"\\nReporte de clasificación:\")\n",
    "print(classification_report(y_test, y_pred_classes))"
   ]
  },
  {
   "cell_type": "markdown",
   "id": "27178ad8",
   "metadata": {},
   "source": [
    "Guardar en h5 y pkl\n"
   ]
  },
  {
   "cell_type": "code",
   "execution_count": 6,
   "id": "1b3d369a",
   "metadata": {},
   "outputs": [
    {
     "name": "stderr",
     "output_type": "stream",
     "text": [
      "WARNING:absl:You are saving your model as an HDF5 file via `model.save()` or `keras.saving.save_model(model)`. This file format is considered legacy. We recommend using instead the native Keras format, e.g. `model.save('my_model.keras')` or `keras.saving.save_model(model, 'my_model.keras')`. \n"
     ]
    },
    {
     "name": "stdout",
     "output_type": "stream",
     "text": [
      "✅ Modelo y componentes guardados exitosamente:\n",
      "- mejor_modelo_f1.h5 (modelo de Keras)\n",
      "- scaler.pkl (StandardScaler)\n",
      "- selected_features.pkl (features seleccionadas)\n",
      "- label_encoder_y.pkl (codificador de variable objetivo)\n",
      "- best_params.pkl (mejores parámetros)\n"
     ]
    }
   ],
   "source": [
    "import pickle\n",
    "\n",
    "# Guardar el modelo entrenado en formato .h5\n",
    "model.save('mejor_modelo_f1.h5')\n",
    "\n",
    "# Guardar el scaler y otros componentes necesarios en formato .pkl\n",
    "\n",
    "# Guardar el scaler\n",
    "with open('scaler.pkl', 'wb') as f:\n",
    "    pickle.dump(scaler, f)\n",
    "\n",
    "# Guardar las features seleccionadas\n",
    "with open('selected_features.pkl', 'wb') as f:\n",
    "    pickle.dump(selected_features, f)\n",
    "\n",
    "# Guardar el label encoder para la variable objetivo\n",
    "label_encoder_y = LabelEncoder()\n",
    "label_encoder_y.fit(y)\n",
    "with open('label_encoder_y.pkl', 'wb') as f:\n",
    "    pickle.dump(label_encoder_y, f)\n",
    "\n",
    "# Guardar los mejores parámetros en formato pickle también\n",
    "with open('best_params.pkl', 'wb') as f:\n",
    "    pickle.dump(best_params, f)\n",
    "\n",
    "print(\"✅ Modelo y componentes guardados exitosamente:\")\n",
    "print(\"- mejor_modelo_f1.h5 (modelo de Keras)\")\n",
    "print(\"- scaler.pkl (StandardScaler)\")\n",
    "print(\"- selected_features.pkl (features seleccionadas)\")\n",
    "print(\"- label_encoder_y.pkl (codificador de variable objetivo)\")\n",
    "print(\"- best_params.pkl (mejores parámetros)\")"
   ]
  },
  {
   "cell_type": "code",
   "execution_count": 7,
   "id": "94e50d8d",
   "metadata": {},
   "outputs": [
    {
     "data": {
      "image/png": "[encoded data removed]",
      "text/plain": [
       "<Figure size 1000x800 with 2 Axes>"
      ]
     },
     "metadata": {},
     "output_type": "display_data"
    },
    {
     "name": "stdout",
     "output_type": "stream",
     "text": [
      "Matriz de Confusión:\n",
      "[[    0   604  1543  7766  1259]\n",
      " [    0  1602  1702 20932  3157]\n",
      " [    0  1104  3454 10264  2271]\n",
      " [    0  1357  2385 25747  2548]\n",
      " [    0  1351  2438 17861  2720]]\n",
      "\n",
      "Clases: ['punt_c_naturales' 'punt_ingles' 'punt_lectura_critica'\n",
      " 'punt_matematicas' 'punt_sociales_ciudadanas']\n"
     ]
    }
   ],
   "source": [
    "from sklearn.metrics import confusion_matrix\n",
    "import seaborn as sns\n",
    "\n",
    "import matplotlib.pyplot as plt\n",
    "\n",
    "# Crear la matriz de confusión\n",
    "cm = confusion_matrix(y_test, y_pred_classes)\n",
    "\n",
    "# Obtener las etiquetas de las clases\n",
    "class_labels = label_encoder_y.classes_\n",
    "\n",
    "# Crear el gráfico de la matriz de confusión\n",
    "plt.figure(figsize=(10, 8))\n",
    "sns.heatmap(cm, annot=True, fmt='d', cmap='Blues', \n",
    "            xticklabels=class_labels, yticklabels=class_labels)\n",
    "plt.title('Matriz de Confusión')\n",
    "plt.xlabel('Predicción')\n",
    "plt.ylabel('Valor Real')\n",
    "plt.xticks(rotation=45)\n",
    "plt.yticks(rotation=0)\n",
    "plt.tight_layout()\n",
    "plt.show()\n",
    "\n",
    "# Mostrar también los valores numéricos\n",
    "print(\"Matriz de Confusión:\")\n",
    "print(cm)\n",
    "print(f\"\\nClases: {class_labels}\")"
   ]
  }
 ],
 "metadata": {
  "kernelspec": {
   "display_name": "Python 3",
   "language": "python",
   "name": "python3"
  },
  "language_info": {
   "codemirror_mode": {
    "name": "ipython",
    "version": 3
   },
   "file_extension": ".py",
   "mimetype": "text/x-python",
   "name": "python",
   "nbconvert_exporter": "python",
   "pygments_lexer": "ipython3",
   "version": "3.11.9"
  }
 },
 "nbformat": 4,
 "nbformat_minor": 5
}
